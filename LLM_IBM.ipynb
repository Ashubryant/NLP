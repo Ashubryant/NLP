{
  "nbformat": 4,
  "nbformat_minor": 0,
  "metadata": {
    "colab": {
      "provenance": [],
      "gpuType": "T4"
    },
    "kernelspec": {
      "name": "python3",
      "display_name": "Python 3"
    },
    "language_info": {
      "name": "python"
    },
    "widgets": {
      "application/vnd.jupyter.widget-state+json": {
        "55f8c4378e0948309b0dd3735a8fbc7f": {
          "model_module": "@jupyter-widgets/controls",
          "model_name": "HBoxModel",
          "model_module_version": "1.5.0",
          "state": {
            "_dom_classes": [],
            "_model_module": "@jupyter-widgets/controls",
            "_model_module_version": "1.5.0",
            "_model_name": "HBoxModel",
            "_view_count": null,
            "_view_module": "@jupyter-widgets/controls",
            "_view_module_version": "1.5.0",
            "_view_name": "HBoxView",
            "box_style": "",
            "children": [
              "IPY_MODEL_71777649a43948db9d6ecaa773c7bb1d",
              "IPY_MODEL_21f85f5501db40c5ba930c04d5f97b7c",
              "IPY_MODEL_8d7d8df348564cea94bf70eaea8b784b"
            ],
            "layout": "IPY_MODEL_8f8bec4c6c7c49e0a192bda6155cb115"
          }
        },
        "71777649a43948db9d6ecaa773c7bb1d": {
          "model_module": "@jupyter-widgets/controls",
          "model_name": "HTMLModel",
          "model_module_version": "1.5.0",
          "state": {
            "_dom_classes": [],
            "_model_module": "@jupyter-widgets/controls",
            "_model_module_version": "1.5.0",
            "_model_name": "HTMLModel",
            "_view_count": null,
            "_view_module": "@jupyter-widgets/controls",
            "_view_module_version": "1.5.0",
            "_view_name": "HTMLView",
            "description": "",
            "description_tooltip": null,
            "layout": "IPY_MODEL_23009bb36b6a4c2ba8bc68fd5d8d7a8c",
            "placeholder": "​",
            "style": "IPY_MODEL_60055340c0c34004881210f089ee46ac",
            "value": "tokenizer_config.json: 100%"
          }
        },
        "21f85f5501db40c5ba930c04d5f97b7c": {
          "model_module": "@jupyter-widgets/controls",
          "model_name": "FloatProgressModel",
          "model_module_version": "1.5.0",
          "state": {
            "_dom_classes": [],
            "_model_module": "@jupyter-widgets/controls",
            "_model_module_version": "1.5.0",
            "_model_name": "FloatProgressModel",
            "_view_count": null,
            "_view_module": "@jupyter-widgets/controls",
            "_view_module_version": "1.5.0",
            "_view_name": "ProgressView",
            "bar_style": "success",
            "description": "",
            "description_tooltip": null,
            "layout": "IPY_MODEL_044113d000e34fb08a7c8e5a71e2c067",
            "max": 87,
            "min": 0,
            "orientation": "horizontal",
            "style": "IPY_MODEL_48f58c969b5d4d619931d38c1d35ea71",
            "value": 87
          }
        },
        "8d7d8df348564cea94bf70eaea8b784b": {
          "model_module": "@jupyter-widgets/controls",
          "model_name": "HTMLModel",
          "model_module_version": "1.5.0",
          "state": {
            "_dom_classes": [],
            "_model_module": "@jupyter-widgets/controls",
            "_model_module_version": "1.5.0",
            "_model_name": "HTMLModel",
            "_view_count": null,
            "_view_module": "@jupyter-widgets/controls",
            "_view_module_version": "1.5.0",
            "_view_name": "HTMLView",
            "description": "",
            "description_tooltip": null,
            "layout": "IPY_MODEL_83585ec48c464071a285ee265bb90e13",
            "placeholder": "​",
            "style": "IPY_MODEL_bf2f28dd41a64c0abea401323ce4916a",
            "value": " 87.0/87.0 [00:00&lt;00:00, 4.14kB/s]"
          }
        },
        "8f8bec4c6c7c49e0a192bda6155cb115": {
          "model_module": "@jupyter-widgets/base",
          "model_name": "LayoutModel",
          "model_module_version": "1.2.0",
          "state": {
            "_model_module": "@jupyter-widgets/base",
            "_model_module_version": "1.2.0",
            "_model_name": "LayoutModel",
            "_view_count": null,
            "_view_module": "@jupyter-widgets/base",
            "_view_module_version": "1.2.0",
            "_view_name": "LayoutView",
            "align_content": null,
            "align_items": null,
            "align_self": null,
            "border": null,
            "bottom": null,
            "display": null,
            "flex": null,
            "flex_flow": null,
            "grid_area": null,
            "grid_auto_columns": null,
            "grid_auto_flow": null,
            "grid_auto_rows": null,
            "grid_column": null,
            "grid_gap": null,
            "grid_row": null,
            "grid_template_areas": null,
            "grid_template_columns": null,
            "grid_template_rows": null,
            "height": null,
            "justify_content": null,
            "justify_items": null,
            "left": null,
            "margin": null,
            "max_height": null,
            "max_width": null,
            "min_height": null,
            "min_width": null,
            "object_fit": null,
            "object_position": null,
            "order": null,
            "overflow": null,
            "overflow_x": null,
            "overflow_y": null,
            "padding": null,
            "right": null,
            "top": null,
            "visibility": null,
            "width": null
          }
        },
        "23009bb36b6a4c2ba8bc68fd5d8d7a8c": {
          "model_module": "@jupyter-widgets/base",
          "model_name": "LayoutModel",
          "model_module_version": "1.2.0",
          "state": {
            "_model_module": "@jupyter-widgets/base",
            "_model_module_version": "1.2.0",
            "_model_name": "LayoutModel",
            "_view_count": null,
            "_view_module": "@jupyter-widgets/base",
            "_view_module_version": "1.2.0",
            "_view_name": "LayoutView",
            "align_content": null,
            "align_items": null,
            "align_self": null,
            "border": null,
            "bottom": null,
            "display": null,
            "flex": null,
            "flex_flow": null,
            "grid_area": null,
            "grid_auto_columns": null,
            "grid_auto_flow": null,
            "grid_auto_rows": null,
            "grid_column": null,
            "grid_gap": null,
            "grid_row": null,
            "grid_template_areas": null,
            "grid_template_columns": null,
            "grid_template_rows": null,
            "height": null,
            "justify_content": null,
            "justify_items": null,
            "left": null,
            "margin": null,
            "max_height": null,
            "max_width": null,
            "min_height": null,
            "min_width": null,
            "object_fit": null,
            "object_position": null,
            "order": null,
            "overflow": null,
            "overflow_x": null,
            "overflow_y": null,
            "padding": null,
            "right": null,
            "top": null,
            "visibility": null,
            "width": null
          }
        },
        "60055340c0c34004881210f089ee46ac": {
          "model_module": "@jupyter-widgets/controls",
          "model_name": "DescriptionStyleModel",
          "model_module_version": "1.5.0",
          "state": {
            "_model_module": "@jupyter-widgets/controls",
            "_model_module_version": "1.5.0",
            "_model_name": "DescriptionStyleModel",
            "_view_count": null,
            "_view_module": "@jupyter-widgets/base",
            "_view_module_version": "1.2.0",
            "_view_name": "StyleView",
            "description_width": ""
          }
        },
        "044113d000e34fb08a7c8e5a71e2c067": {
          "model_module": "@jupyter-widgets/base",
          "model_name": "LayoutModel",
          "model_module_version": "1.2.0",
          "state": {
            "_model_module": "@jupyter-widgets/base",
            "_model_module_version": "1.2.0",
            "_model_name": "LayoutModel",
            "_view_count": null,
            "_view_module": "@jupyter-widgets/base",
            "_view_module_version": "1.2.0",
            "_view_name": "LayoutView",
            "align_content": null,
            "align_items": null,
            "align_self": null,
            "border": null,
            "bottom": null,
            "display": null,
            "flex": null,
            "flex_flow": null,
            "grid_area": null,
            "grid_auto_columns": null,
            "grid_auto_flow": null,
            "grid_auto_rows": null,
            "grid_column": null,
            "grid_gap": null,
            "grid_row": null,
            "grid_template_areas": null,
            "grid_template_columns": null,
            "grid_template_rows": null,
            "height": null,
            "justify_content": null,
            "justify_items": null,
            "left": null,
            "margin": null,
            "max_height": null,
            "max_width": null,
            "min_height": null,
            "min_width": null,
            "object_fit": null,
            "object_position": null,
            "order": null,
            "overflow": null,
            "overflow_x": null,
            "overflow_y": null,
            "padding": null,
            "right": null,
            "top": null,
            "visibility": null,
            "width": null
          }
        },
        "48f58c969b5d4d619931d38c1d35ea71": {
          "model_module": "@jupyter-widgets/controls",
          "model_name": "ProgressStyleModel",
          "model_module_version": "1.5.0",
          "state": {
            "_model_module": "@jupyter-widgets/controls",
            "_model_module_version": "1.5.0",
            "_model_name": "ProgressStyleModel",
            "_view_count": null,
            "_view_module": "@jupyter-widgets/base",
            "_view_module_version": "1.2.0",
            "_view_name": "StyleView",
            "bar_color": null,
            "description_width": ""
          }
        },
        "83585ec48c464071a285ee265bb90e13": {
          "model_module": "@jupyter-widgets/base",
          "model_name": "LayoutModel",
          "model_module_version": "1.2.0",
          "state": {
            "_model_module": "@jupyter-widgets/base",
            "_model_module_version": "1.2.0",
            "_model_name": "LayoutModel",
            "_view_count": null,
            "_view_module": "@jupyter-widgets/base",
            "_view_module_version": "1.2.0",
            "_view_name": "LayoutView",
            "align_content": null,
            "align_items": null,
            "align_self": null,
            "border": null,
            "bottom": null,
            "display": null,
            "flex": null,
            "flex_flow": null,
            "grid_area": null,
            "grid_auto_columns": null,
            "grid_auto_flow": null,
            "grid_auto_rows": null,
            "grid_column": null,
            "grid_gap": null,
            "grid_row": null,
            "grid_template_areas": null,
            "grid_template_columns": null,
            "grid_template_rows": null,
            "height": null,
            "justify_content": null,
            "justify_items": null,
            "left": null,
            "margin": null,
            "max_height": null,
            "max_width": null,
            "min_height": null,
            "min_width": null,
            "object_fit": null,
            "object_position": null,
            "order": null,
            "overflow": null,
            "overflow_x": null,
            "overflow_y": null,
            "padding": null,
            "right": null,
            "top": null,
            "visibility": null,
            "width": null
          }
        },
        "bf2f28dd41a64c0abea401323ce4916a": {
          "model_module": "@jupyter-widgets/controls",
          "model_name": "DescriptionStyleModel",
          "model_module_version": "1.5.0",
          "state": {
            "_model_module": "@jupyter-widgets/controls",
            "_model_module_version": "1.5.0",
            "_model_name": "DescriptionStyleModel",
            "_view_count": null,
            "_view_module": "@jupyter-widgets/base",
            "_view_module_version": "1.2.0",
            "_view_name": "StyleView",
            "description_width": ""
          }
        },
        "4cc75a673e2c4f6097df3b0bebb9437e": {
          "model_module": "@jupyter-widgets/controls",
          "model_name": "HBoxModel",
          "model_module_version": "1.5.0",
          "state": {
            "_dom_classes": [],
            "_model_module": "@jupyter-widgets/controls",
            "_model_module_version": "1.5.0",
            "_model_name": "HBoxModel",
            "_view_count": null,
            "_view_module": "@jupyter-widgets/controls",
            "_view_module_version": "1.5.0",
            "_view_name": "HBoxView",
            "box_style": "",
            "children": [
              "IPY_MODEL_05ecfac4d2c4497cb150bf262b77341d",
              "IPY_MODEL_6ef9dfed4002417d8f83867ae1f41144",
              "IPY_MODEL_278c81ca6ebe47028e2237b1788c5332"
            ],
            "layout": "IPY_MODEL_ee3fb95b4de84d27b4e465e50f2454da"
          }
        },
        "05ecfac4d2c4497cb150bf262b77341d": {
          "model_module": "@jupyter-widgets/controls",
          "model_name": "HTMLModel",
          "model_module_version": "1.5.0",
          "state": {
            "_dom_classes": [],
            "_model_module": "@jupyter-widgets/controls",
            "_model_module_version": "1.5.0",
            "_model_name": "HTMLModel",
            "_view_count": null,
            "_view_module": "@jupyter-widgets/controls",
            "_view_module_version": "1.5.0",
            "_view_name": "HTMLView",
            "description": "",
            "description_tooltip": null,
            "layout": "IPY_MODEL_1ff6aee01a1f40469a99cff3676d5fdf",
            "placeholder": "​",
            "style": "IPY_MODEL_87fc9be9b655471e84ac454b721db84d",
            "value": "spiece.model: 100%"
          }
        },
        "6ef9dfed4002417d8f83867ae1f41144": {
          "model_module": "@jupyter-widgets/controls",
          "model_name": "FloatProgressModel",
          "model_module_version": "1.5.0",
          "state": {
            "_dom_classes": [],
            "_model_module": "@jupyter-widgets/controls",
            "_model_module_version": "1.5.0",
            "_model_name": "FloatProgressModel",
            "_view_count": null,
            "_view_module": "@jupyter-widgets/controls",
            "_view_module_version": "1.5.0",
            "_view_name": "ProgressView",
            "bar_style": "success",
            "description": "",
            "description_tooltip": null,
            "layout": "IPY_MODEL_b189bc6373044d50aac3f2c2f1b511fd",
            "max": 1912529,
            "min": 0,
            "orientation": "horizontal",
            "style": "IPY_MODEL_9f9c1557e1564a9f9b7a2dd2ca691f9e",
            "value": 1912529
          }
        },
        "278c81ca6ebe47028e2237b1788c5332": {
          "model_module": "@jupyter-widgets/controls",
          "model_name": "HTMLModel",
          "model_module_version": "1.5.0",
          "state": {
            "_dom_classes": [],
            "_model_module": "@jupyter-widgets/controls",
            "_model_module_version": "1.5.0",
            "_model_name": "HTMLModel",
            "_view_count": null,
            "_view_module": "@jupyter-widgets/controls",
            "_view_module_version": "1.5.0",
            "_view_name": "HTMLView",
            "description": "",
            "description_tooltip": null,
            "layout": "IPY_MODEL_ce1e09173ede4a8997f581e2eaa4dccf",
            "placeholder": "​",
            "style": "IPY_MODEL_9b8e1d70c0f54302b8d17526519684c6",
            "value": " 1.91M/1.91M [00:00&lt;00:00, 16.2MB/s]"
          }
        },
        "ee3fb95b4de84d27b4e465e50f2454da": {
          "model_module": "@jupyter-widgets/base",
          "model_name": "LayoutModel",
          "model_module_version": "1.2.0",
          "state": {
            "_model_module": "@jupyter-widgets/base",
            "_model_module_version": "1.2.0",
            "_model_name": "LayoutModel",
            "_view_count": null,
            "_view_module": "@jupyter-widgets/base",
            "_view_module_version": "1.2.0",
            "_view_name": "LayoutView",
            "align_content": null,
            "align_items": null,
            "align_self": null,
            "border": null,
            "bottom": null,
            "display": null,
            "flex": null,
            "flex_flow": null,
            "grid_area": null,
            "grid_auto_columns": null,
            "grid_auto_flow": null,
            "grid_auto_rows": null,
            "grid_column": null,
            "grid_gap": null,
            "grid_row": null,
            "grid_template_areas": null,
            "grid_template_columns": null,
            "grid_template_rows": null,
            "height": null,
            "justify_content": null,
            "justify_items": null,
            "left": null,
            "margin": null,
            "max_height": null,
            "max_width": null,
            "min_height": null,
            "min_width": null,
            "object_fit": null,
            "object_position": null,
            "order": null,
            "overflow": null,
            "overflow_x": null,
            "overflow_y": null,
            "padding": null,
            "right": null,
            "top": null,
            "visibility": null,
            "width": null
          }
        },
        "1ff6aee01a1f40469a99cff3676d5fdf": {
          "model_module": "@jupyter-widgets/base",
          "model_name": "LayoutModel",
          "model_module_version": "1.2.0",
          "state": {
            "_model_module": "@jupyter-widgets/base",
            "_model_module_version": "1.2.0",
            "_model_name": "LayoutModel",
            "_view_count": null,
            "_view_module": "@jupyter-widgets/base",
            "_view_module_version": "1.2.0",
            "_view_name": "LayoutView",
            "align_content": null,
            "align_items": null,
            "align_self": null,
            "border": null,
            "bottom": null,
            "display": null,
            "flex": null,
            "flex_flow": null,
            "grid_area": null,
            "grid_auto_columns": null,
            "grid_auto_flow": null,
            "grid_auto_rows": null,
            "grid_column": null,
            "grid_gap": null,
            "grid_row": null,
            "grid_template_areas": null,
            "grid_template_columns": null,
            "grid_template_rows": null,
            "height": null,
            "justify_content": null,
            "justify_items": null,
            "left": null,
            "margin": null,
            "max_height": null,
            "max_width": null,
            "min_height": null,
            "min_width": null,
            "object_fit": null,
            "object_position": null,
            "order": null,
            "overflow": null,
            "overflow_x": null,
            "overflow_y": null,
            "padding": null,
            "right": null,
            "top": null,
            "visibility": null,
            "width": null
          }
        },
        "87fc9be9b655471e84ac454b721db84d": {
          "model_module": "@jupyter-widgets/controls",
          "model_name": "DescriptionStyleModel",
          "model_module_version": "1.5.0",
          "state": {
            "_model_module": "@jupyter-widgets/controls",
            "_model_module_version": "1.5.0",
            "_model_name": "DescriptionStyleModel",
            "_view_count": null,
            "_view_module": "@jupyter-widgets/base",
            "_view_module_version": "1.2.0",
            "_view_name": "StyleView",
            "description_width": ""
          }
        },
        "b189bc6373044d50aac3f2c2f1b511fd": {
          "model_module": "@jupyter-widgets/base",
          "model_name": "LayoutModel",
          "model_module_version": "1.2.0",
          "state": {
            "_model_module": "@jupyter-widgets/base",
            "_model_module_version": "1.2.0",
            "_model_name": "LayoutModel",
            "_view_count": null,
            "_view_module": "@jupyter-widgets/base",
            "_view_module_version": "1.2.0",
            "_view_name": "LayoutView",
            "align_content": null,
            "align_items": null,
            "align_self": null,
            "border": null,
            "bottom": null,
            "display": null,
            "flex": null,
            "flex_flow": null,
            "grid_area": null,
            "grid_auto_columns": null,
            "grid_auto_flow": null,
            "grid_auto_rows": null,
            "grid_column": null,
            "grid_gap": null,
            "grid_row": null,
            "grid_template_areas": null,
            "grid_template_columns": null,
            "grid_template_rows": null,
            "height": null,
            "justify_content": null,
            "justify_items": null,
            "left": null,
            "margin": null,
            "max_height": null,
            "max_width": null,
            "min_height": null,
            "min_width": null,
            "object_fit": null,
            "object_position": null,
            "order": null,
            "overflow": null,
            "overflow_x": null,
            "overflow_y": null,
            "padding": null,
            "right": null,
            "top": null,
            "visibility": null,
            "width": null
          }
        },
        "9f9c1557e1564a9f9b7a2dd2ca691f9e": {
          "model_module": "@jupyter-widgets/controls",
          "model_name": "ProgressStyleModel",
          "model_module_version": "1.5.0",
          "state": {
            "_model_module": "@jupyter-widgets/controls",
            "_model_module_version": "1.5.0",
            "_model_name": "ProgressStyleModel",
            "_view_count": null,
            "_view_module": "@jupyter-widgets/base",
            "_view_module_version": "1.2.0",
            "_view_name": "StyleView",
            "bar_color": null,
            "description_width": ""
          }
        },
        "ce1e09173ede4a8997f581e2eaa4dccf": {
          "model_module": "@jupyter-widgets/base",
          "model_name": "LayoutModel",
          "model_module_version": "1.2.0",
          "state": {
            "_model_module": "@jupyter-widgets/base",
            "_model_module_version": "1.2.0",
            "_model_name": "LayoutModel",
            "_view_count": null,
            "_view_module": "@jupyter-widgets/base",
            "_view_module_version": "1.2.0",
            "_view_name": "LayoutView",
            "align_content": null,
            "align_items": null,
            "align_self": null,
            "border": null,
            "bottom": null,
            "display": null,
            "flex": null,
            "flex_flow": null,
            "grid_area": null,
            "grid_auto_columns": null,
            "grid_auto_flow": null,
            "grid_auto_rows": null,
            "grid_column": null,
            "grid_gap": null,
            "grid_row": null,
            "grid_template_areas": null,
            "grid_template_columns": null,
            "grid_template_rows": null,
            "height": null,
            "justify_content": null,
            "justify_items": null,
            "left": null,
            "margin": null,
            "max_height": null,
            "max_width": null,
            "min_height": null,
            "min_width": null,
            "object_fit": null,
            "object_position": null,
            "order": null,
            "overflow": null,
            "overflow_x": null,
            "overflow_y": null,
            "padding": null,
            "right": null,
            "top": null,
            "visibility": null,
            "width": null
          }
        },
        "9b8e1d70c0f54302b8d17526519684c6": {
          "model_module": "@jupyter-widgets/controls",
          "model_name": "DescriptionStyleModel",
          "model_module_version": "1.5.0",
          "state": {
            "_model_module": "@jupyter-widgets/controls",
            "_model_module_version": "1.5.0",
            "_model_name": "DescriptionStyleModel",
            "_view_count": null,
            "_view_module": "@jupyter-widgets/base",
            "_view_module_version": "1.2.0",
            "_view_name": "StyleView",
            "description_width": ""
          }
        },
        "d14dcf5881a44372a1073d1427588680": {
          "model_module": "@jupyter-widgets/controls",
          "model_name": "HBoxModel",
          "model_module_version": "1.5.0",
          "state": {
            "_dom_classes": [],
            "_model_module": "@jupyter-widgets/controls",
            "_model_module_version": "1.5.0",
            "_model_name": "HBoxModel",
            "_view_count": null,
            "_view_module": "@jupyter-widgets/controls",
            "_view_module_version": "1.5.0",
            "_view_name": "HBoxView",
            "box_style": "",
            "children": [
              "IPY_MODEL_b5ce4a2ae26944538579c09033538643",
              "IPY_MODEL_af5e9e3571df45d681a1d567fe51e9e5",
              "IPY_MODEL_933bc603ac9f4c809decc67e71cbbf4c"
            ],
            "layout": "IPY_MODEL_5f76af4116444b1c99c5c800981a2d00"
          }
        },
        "b5ce4a2ae26944538579c09033538643": {
          "model_module": "@jupyter-widgets/controls",
          "model_name": "HTMLModel",
          "model_module_version": "1.5.0",
          "state": {
            "_dom_classes": [],
            "_model_module": "@jupyter-widgets/controls",
            "_model_module_version": "1.5.0",
            "_model_name": "HTMLModel",
            "_view_count": null,
            "_view_module": "@jupyter-widgets/controls",
            "_view_module_version": "1.5.0",
            "_view_name": "HTMLView",
            "description": "",
            "description_tooltip": null,
            "layout": "IPY_MODEL_df936bcbdafd49e18319e82a9477379a",
            "placeholder": "​",
            "style": "IPY_MODEL_aadfb4ea5cfc488e935d4153d2d14ff8",
            "value": "special_tokens_map.json: 100%"
          }
        },
        "af5e9e3571df45d681a1d567fe51e9e5": {
          "model_module": "@jupyter-widgets/controls",
          "model_name": "FloatProgressModel",
          "model_module_version": "1.5.0",
          "state": {
            "_dom_classes": [],
            "_model_module": "@jupyter-widgets/controls",
            "_model_module_version": "1.5.0",
            "_model_name": "FloatProgressModel",
            "_view_count": null,
            "_view_module": "@jupyter-widgets/controls",
            "_view_module_version": "1.5.0",
            "_view_name": "ProgressView",
            "bar_style": "success",
            "description": "",
            "description_tooltip": null,
            "layout": "IPY_MODEL_f224eaefb510452891cc9760d545f929",
            "max": 65,
            "min": 0,
            "orientation": "horizontal",
            "style": "IPY_MODEL_5d56c17bd00e4818a5207f6aacdd1f92",
            "value": 65
          }
        },
        "933bc603ac9f4c809decc67e71cbbf4c": {
          "model_module": "@jupyter-widgets/controls",
          "model_name": "HTMLModel",
          "model_module_version": "1.5.0",
          "state": {
            "_dom_classes": [],
            "_model_module": "@jupyter-widgets/controls",
            "_model_module_version": "1.5.0",
            "_model_name": "HTMLModel",
            "_view_count": null,
            "_view_module": "@jupyter-widgets/controls",
            "_view_module_version": "1.5.0",
            "_view_name": "HTMLView",
            "description": "",
            "description_tooltip": null,
            "layout": "IPY_MODEL_b5b7e09dabfb44b597fd55ec3fc74e62",
            "placeholder": "​",
            "style": "IPY_MODEL_1a16d2aa3c0d441a96843194e3c4aab5",
            "value": " 65.0/65.0 [00:00&lt;00:00, 2.77kB/s]"
          }
        },
        "5f76af4116444b1c99c5c800981a2d00": {
          "model_module": "@jupyter-widgets/base",
          "model_name": "LayoutModel",
          "model_module_version": "1.2.0",
          "state": {
            "_model_module": "@jupyter-widgets/base",
            "_model_module_version": "1.2.0",
            "_model_name": "LayoutModel",
            "_view_count": null,
            "_view_module": "@jupyter-widgets/base",
            "_view_module_version": "1.2.0",
            "_view_name": "LayoutView",
            "align_content": null,
            "align_items": null,
            "align_self": null,
            "border": null,
            "bottom": null,
            "display": null,
            "flex": null,
            "flex_flow": null,
            "grid_area": null,
            "grid_auto_columns": null,
            "grid_auto_flow": null,
            "grid_auto_rows": null,
            "grid_column": null,
            "grid_gap": null,
            "grid_row": null,
            "grid_template_areas": null,
            "grid_template_columns": null,
            "grid_template_rows": null,
            "height": null,
            "justify_content": null,
            "justify_items": null,
            "left": null,
            "margin": null,
            "max_height": null,
            "max_width": null,
            "min_height": null,
            "min_width": null,
            "object_fit": null,
            "object_position": null,
            "order": null,
            "overflow": null,
            "overflow_x": null,
            "overflow_y": null,
            "padding": null,
            "right": null,
            "top": null,
            "visibility": null,
            "width": null
          }
        },
        "df936bcbdafd49e18319e82a9477379a": {
          "model_module": "@jupyter-widgets/base",
          "model_name": "LayoutModel",
          "model_module_version": "1.2.0",
          "state": {
            "_model_module": "@jupyter-widgets/base",
            "_model_module_version": "1.2.0",
            "_model_name": "LayoutModel",
            "_view_count": null,
            "_view_module": "@jupyter-widgets/base",
            "_view_module_version": "1.2.0",
            "_view_name": "LayoutView",
            "align_content": null,
            "align_items": null,
            "align_self": null,
            "border": null,
            "bottom": null,
            "display": null,
            "flex": null,
            "flex_flow": null,
            "grid_area": null,
            "grid_auto_columns": null,
            "grid_auto_flow": null,
            "grid_auto_rows": null,
            "grid_column": null,
            "grid_gap": null,
            "grid_row": null,
            "grid_template_areas": null,
            "grid_template_columns": null,
            "grid_template_rows": null,
            "height": null,
            "justify_content": null,
            "justify_items": null,
            "left": null,
            "margin": null,
            "max_height": null,
            "max_width": null,
            "min_height": null,
            "min_width": null,
            "object_fit": null,
            "object_position": null,
            "order": null,
            "overflow": null,
            "overflow_x": null,
            "overflow_y": null,
            "padding": null,
            "right": null,
            "top": null,
            "visibility": null,
            "width": null
          }
        },
        "aadfb4ea5cfc488e935d4153d2d14ff8": {
          "model_module": "@jupyter-widgets/controls",
          "model_name": "DescriptionStyleModel",
          "model_module_version": "1.5.0",
          "state": {
            "_model_module": "@jupyter-widgets/controls",
            "_model_module_version": "1.5.0",
            "_model_name": "DescriptionStyleModel",
            "_view_count": null,
            "_view_module": "@jupyter-widgets/base",
            "_view_module_version": "1.2.0",
            "_view_name": "StyleView",
            "description_width": ""
          }
        },
        "f224eaefb510452891cc9760d545f929": {
          "model_module": "@jupyter-widgets/base",
          "model_name": "LayoutModel",
          "model_module_version": "1.2.0",
          "state": {
            "_model_module": "@jupyter-widgets/base",
            "_model_module_version": "1.2.0",
            "_model_name": "LayoutModel",
            "_view_count": null,
            "_view_module": "@jupyter-widgets/base",
            "_view_module_version": "1.2.0",
            "_view_name": "LayoutView",
            "align_content": null,
            "align_items": null,
            "align_self": null,
            "border": null,
            "bottom": null,
            "display": null,
            "flex": null,
            "flex_flow": null,
            "grid_area": null,
            "grid_auto_columns": null,
            "grid_auto_flow": null,
            "grid_auto_rows": null,
            "grid_column": null,
            "grid_gap": null,
            "grid_row": null,
            "grid_template_areas": null,
            "grid_template_columns": null,
            "grid_template_rows": null,
            "height": null,
            "justify_content": null,
            "justify_items": null,
            "left": null,
            "margin": null,
            "max_height": null,
            "max_width": null,
            "min_height": null,
            "min_width": null,
            "object_fit": null,
            "object_position": null,
            "order": null,
            "overflow": null,
            "overflow_x": null,
            "overflow_y": null,
            "padding": null,
            "right": null,
            "top": null,
            "visibility": null,
            "width": null
          }
        },
        "5d56c17bd00e4818a5207f6aacdd1f92": {
          "model_module": "@jupyter-widgets/controls",
          "model_name": "ProgressStyleModel",
          "model_module_version": "1.5.0",
          "state": {
            "_model_module": "@jupyter-widgets/controls",
            "_model_module_version": "1.5.0",
            "_model_name": "ProgressStyleModel",
            "_view_count": null,
            "_view_module": "@jupyter-widgets/base",
            "_view_module_version": "1.2.0",
            "_view_name": "StyleView",
            "bar_color": null,
            "description_width": ""
          }
        },
        "b5b7e09dabfb44b597fd55ec3fc74e62": {
          "model_module": "@jupyter-widgets/base",
          "model_name": "LayoutModel",
          "model_module_version": "1.2.0",
          "state": {
            "_model_module": "@jupyter-widgets/base",
            "_model_module_version": "1.2.0",
            "_model_name": "LayoutModel",
            "_view_count": null,
            "_view_module": "@jupyter-widgets/base",
            "_view_module_version": "1.2.0",
            "_view_name": "LayoutView",
            "align_content": null,
            "align_items": null,
            "align_self": null,
            "border": null,
            "bottom": null,
            "display": null,
            "flex": null,
            "flex_flow": null,
            "grid_area": null,
            "grid_auto_columns": null,
            "grid_auto_flow": null,
            "grid_auto_rows": null,
            "grid_column": null,
            "grid_gap": null,
            "grid_row": null,
            "grid_template_areas": null,
            "grid_template_columns": null,
            "grid_template_rows": null,
            "height": null,
            "justify_content": null,
            "justify_items": null,
            "left": null,
            "margin": null,
            "max_height": null,
            "max_width": null,
            "min_height": null,
            "min_width": null,
            "object_fit": null,
            "object_position": null,
            "order": null,
            "overflow": null,
            "overflow_x": null,
            "overflow_y": null,
            "padding": null,
            "right": null,
            "top": null,
            "visibility": null,
            "width": null
          }
        },
        "1a16d2aa3c0d441a96843194e3c4aab5": {
          "model_module": "@jupyter-widgets/controls",
          "model_name": "DescriptionStyleModel",
          "model_module_version": "1.5.0",
          "state": {
            "_model_module": "@jupyter-widgets/controls",
            "_model_module_version": "1.5.0",
            "_model_name": "DescriptionStyleModel",
            "_view_count": null,
            "_view_module": "@jupyter-widgets/base",
            "_view_module_version": "1.2.0",
            "_view_name": "StyleView",
            "description_width": ""
          }
        },
        "40002ad001014d519eef14f6ce3ad3f1": {
          "model_module": "@jupyter-widgets/controls",
          "model_name": "HBoxModel",
          "model_module_version": "1.5.0",
          "state": {
            "_dom_classes": [],
            "_model_module": "@jupyter-widgets/controls",
            "_model_module_version": "1.5.0",
            "_model_name": "HBoxModel",
            "_view_count": null,
            "_view_module": "@jupyter-widgets/controls",
            "_view_module_version": "1.5.0",
            "_view_name": "HBoxView",
            "box_style": "",
            "children": [
              "IPY_MODEL_07b921393a8d40b8afdd015ebc61f710",
              "IPY_MODEL_54fa1380544248b69b5e930c17d87644",
              "IPY_MODEL_4b1f118aa52a4f3092ddd4ed23963926"
            ],
            "layout": "IPY_MODEL_e7f4e1ec56cb42cda4f148da1654df3c"
          }
        },
        "07b921393a8d40b8afdd015ebc61f710": {
          "model_module": "@jupyter-widgets/controls",
          "model_name": "HTMLModel",
          "model_module_version": "1.5.0",
          "state": {
            "_dom_classes": [],
            "_model_module": "@jupyter-widgets/controls",
            "_model_module_version": "1.5.0",
            "_model_name": "HTMLModel",
            "_view_count": null,
            "_view_module": "@jupyter-widgets/controls",
            "_view_module_version": "1.5.0",
            "_view_name": "HTMLView",
            "description": "",
            "description_tooltip": null,
            "layout": "IPY_MODEL_ee128471c09642238a8ec9030a37c1dd",
            "placeholder": "​",
            "style": "IPY_MODEL_49cd2c0559b04692a35b454fbed256a6",
            "value": "tokenizer.json: 100%"
          }
        },
        "54fa1380544248b69b5e930c17d87644": {
          "model_module": "@jupyter-widgets/controls",
          "model_name": "FloatProgressModel",
          "model_module_version": "1.5.0",
          "state": {
            "_dom_classes": [],
            "_model_module": "@jupyter-widgets/controls",
            "_model_module_version": "1.5.0",
            "_model_name": "FloatProgressModel",
            "_view_count": null,
            "_view_module": "@jupyter-widgets/controls",
            "_view_module_version": "1.5.0",
            "_view_name": "ProgressView",
            "bar_style": "success",
            "description": "",
            "description_tooltip": null,
            "layout": "IPY_MODEL_c9f506753a284f52b9a8a67aa8a31c96",
            "max": 3520083,
            "min": 0,
            "orientation": "horizontal",
            "style": "IPY_MODEL_688f9d73916c4bfb943b9e8af3b1884b",
            "value": 3520083
          }
        },
        "4b1f118aa52a4f3092ddd4ed23963926": {
          "model_module": "@jupyter-widgets/controls",
          "model_name": "HTMLModel",
          "model_module_version": "1.5.0",
          "state": {
            "_dom_classes": [],
            "_model_module": "@jupyter-widgets/controls",
            "_model_module_version": "1.5.0",
            "_model_name": "HTMLModel",
            "_view_count": null,
            "_view_module": "@jupyter-widgets/controls",
            "_view_module_version": "1.5.0",
            "_view_name": "HTMLView",
            "description": "",
            "description_tooltip": null,
            "layout": "IPY_MODEL_1f9a2864320b4350952279fe52b2de1b",
            "placeholder": "​",
            "style": "IPY_MODEL_549aa79392264beb86a09f12051160ca",
            "value": " 3.52M/3.52M [00:00&lt;00:00, 9.14MB/s]"
          }
        },
        "e7f4e1ec56cb42cda4f148da1654df3c": {
          "model_module": "@jupyter-widgets/base",
          "model_name": "LayoutModel",
          "model_module_version": "1.2.0",
          "state": {
            "_model_module": "@jupyter-widgets/base",
            "_model_module_version": "1.2.0",
            "_model_name": "LayoutModel",
            "_view_count": null,
            "_view_module": "@jupyter-widgets/base",
            "_view_module_version": "1.2.0",
            "_view_name": "LayoutView",
            "align_content": null,
            "align_items": null,
            "align_self": null,
            "border": null,
            "bottom": null,
            "display": null,
            "flex": null,
            "flex_flow": null,
            "grid_area": null,
            "grid_auto_columns": null,
            "grid_auto_flow": null,
            "grid_auto_rows": null,
            "grid_column": null,
            "grid_gap": null,
            "grid_row": null,
            "grid_template_areas": null,
            "grid_template_columns": null,
            "grid_template_rows": null,
            "height": null,
            "justify_content": null,
            "justify_items": null,
            "left": null,
            "margin": null,
            "max_height": null,
            "max_width": null,
            "min_height": null,
            "min_width": null,
            "object_fit": null,
            "object_position": null,
            "order": null,
            "overflow": null,
            "overflow_x": null,
            "overflow_y": null,
            "padding": null,
            "right": null,
            "top": null,
            "visibility": null,
            "width": null
          }
        },
        "ee128471c09642238a8ec9030a37c1dd": {
          "model_module": "@jupyter-widgets/base",
          "model_name": "LayoutModel",
          "model_module_version": "1.2.0",
          "state": {
            "_model_module": "@jupyter-widgets/base",
            "_model_module_version": "1.2.0",
            "_model_name": "LayoutModel",
            "_view_count": null,
            "_view_module": "@jupyter-widgets/base",
            "_view_module_version": "1.2.0",
            "_view_name": "LayoutView",
            "align_content": null,
            "align_items": null,
            "align_self": null,
            "border": null,
            "bottom": null,
            "display": null,
            "flex": null,
            "flex_flow": null,
            "grid_area": null,
            "grid_auto_columns": null,
            "grid_auto_flow": null,
            "grid_auto_rows": null,
            "grid_column": null,
            "grid_gap": null,
            "grid_row": null,
            "grid_template_areas": null,
            "grid_template_columns": null,
            "grid_template_rows": null,
            "height": null,
            "justify_content": null,
            "justify_items": null,
            "left": null,
            "margin": null,
            "max_height": null,
            "max_width": null,
            "min_height": null,
            "min_width": null,
            "object_fit": null,
            "object_position": null,
            "order": null,
            "overflow": null,
            "overflow_x": null,
            "overflow_y": null,
            "padding": null,
            "right": null,
            "top": null,
            "visibility": null,
            "width": null
          }
        },
        "49cd2c0559b04692a35b454fbed256a6": {
          "model_module": "@jupyter-widgets/controls",
          "model_name": "DescriptionStyleModel",
          "model_module_version": "1.5.0",
          "state": {
            "_model_module": "@jupyter-widgets/controls",
            "_model_module_version": "1.5.0",
            "_model_name": "DescriptionStyleModel",
            "_view_count": null,
            "_view_module": "@jupyter-widgets/base",
            "_view_module_version": "1.2.0",
            "_view_name": "StyleView",
            "description_width": ""
          }
        },
        "c9f506753a284f52b9a8a67aa8a31c96": {
          "model_module": "@jupyter-widgets/base",
          "model_name": "LayoutModel",
          "model_module_version": "1.2.0",
          "state": {
            "_model_module": "@jupyter-widgets/base",
            "_model_module_version": "1.2.0",
            "_model_name": "LayoutModel",
            "_view_count": null,
            "_view_module": "@jupyter-widgets/base",
            "_view_module_version": "1.2.0",
            "_view_name": "LayoutView",
            "align_content": null,
            "align_items": null,
            "align_self": null,
            "border": null,
            "bottom": null,
            "display": null,
            "flex": null,
            "flex_flow": null,
            "grid_area": null,
            "grid_auto_columns": null,
            "grid_auto_flow": null,
            "grid_auto_rows": null,
            "grid_column": null,
            "grid_gap": null,
            "grid_row": null,
            "grid_template_areas": null,
            "grid_template_columns": null,
            "grid_template_rows": null,
            "height": null,
            "justify_content": null,
            "justify_items": null,
            "left": null,
            "margin": null,
            "max_height": null,
            "max_width": null,
            "min_height": null,
            "min_width": null,
            "object_fit": null,
            "object_position": null,
            "order": null,
            "overflow": null,
            "overflow_x": null,
            "overflow_y": null,
            "padding": null,
            "right": null,
            "top": null,
            "visibility": null,
            "width": null
          }
        },
        "688f9d73916c4bfb943b9e8af3b1884b": {
          "model_module": "@jupyter-widgets/controls",
          "model_name": "ProgressStyleModel",
          "model_module_version": "1.5.0",
          "state": {
            "_model_module": "@jupyter-widgets/controls",
            "_model_module_version": "1.5.0",
            "_model_name": "ProgressStyleModel",
            "_view_count": null,
            "_view_module": "@jupyter-widgets/base",
            "_view_module_version": "1.2.0",
            "_view_name": "StyleView",
            "bar_color": null,
            "description_width": ""
          }
        },
        "1f9a2864320b4350952279fe52b2de1b": {
          "model_module": "@jupyter-widgets/base",
          "model_name": "LayoutModel",
          "model_module_version": "1.2.0",
          "state": {
            "_model_module": "@jupyter-widgets/base",
            "_model_module_version": "1.2.0",
            "_model_name": "LayoutModel",
            "_view_count": null,
            "_view_module": "@jupyter-widgets/base",
            "_view_module_version": "1.2.0",
            "_view_name": "LayoutView",
            "align_content": null,
            "align_items": null,
            "align_self": null,
            "border": null,
            "bottom": null,
            "display": null,
            "flex": null,
            "flex_flow": null,
            "grid_area": null,
            "grid_auto_columns": null,
            "grid_auto_flow": null,
            "grid_auto_rows": null,
            "grid_column": null,
            "grid_gap": null,
            "grid_row": null,
            "grid_template_areas": null,
            "grid_template_columns": null,
            "grid_template_rows": null,
            "height": null,
            "justify_content": null,
            "justify_items": null,
            "left": null,
            "margin": null,
            "max_height": null,
            "max_width": null,
            "min_height": null,
            "min_width": null,
            "object_fit": null,
            "object_position": null,
            "order": null,
            "overflow": null,
            "overflow_x": null,
            "overflow_y": null,
            "padding": null,
            "right": null,
            "top": null,
            "visibility": null,
            "width": null
          }
        },
        "549aa79392264beb86a09f12051160ca": {
          "model_module": "@jupyter-widgets/controls",
          "model_name": "DescriptionStyleModel",
          "model_module_version": "1.5.0",
          "state": {
            "_model_module": "@jupyter-widgets/controls",
            "_model_module_version": "1.5.0",
            "_model_name": "DescriptionStyleModel",
            "_view_count": null,
            "_view_module": "@jupyter-widgets/base",
            "_view_module_version": "1.2.0",
            "_view_name": "StyleView",
            "description_width": ""
          }
        },
        "8affc03f603e4a3998c9b0c410204fd1": {
          "model_module": "@jupyter-widgets/controls",
          "model_name": "HBoxModel",
          "model_module_version": "1.5.0",
          "state": {
            "_dom_classes": [],
            "_model_module": "@jupyter-widgets/controls",
            "_model_module_version": "1.5.0",
            "_model_name": "HBoxModel",
            "_view_count": null,
            "_view_module": "@jupyter-widgets/controls",
            "_view_module_version": "1.5.0",
            "_view_name": "HBoxView",
            "box_style": "",
            "children": [
              "IPY_MODEL_ab0b51720c88476585093546c4def604",
              "IPY_MODEL_32fb84b4f8014dffb0f7acefbca565e3",
              "IPY_MODEL_e9cd2f934cbd40c99db4e3c8b4136621"
            ],
            "layout": "IPY_MODEL_0b50df91e3f0475a93b801bef3c4df73"
          }
        },
        "ab0b51720c88476585093546c4def604": {
          "model_module": "@jupyter-widgets/controls",
          "model_name": "HTMLModel",
          "model_module_version": "1.5.0",
          "state": {
            "_dom_classes": [],
            "_model_module": "@jupyter-widgets/controls",
            "_model_module_version": "1.5.0",
            "_model_name": "HTMLModel",
            "_view_count": null,
            "_view_module": "@jupyter-widgets/controls",
            "_view_module_version": "1.5.0",
            "_view_name": "HTMLView",
            "description": "",
            "description_tooltip": null,
            "layout": "IPY_MODEL_6e1d378e296d47eaa9f50b98cab42dae",
            "placeholder": "​",
            "style": "IPY_MODEL_836f213422014cd08c1e02fd38764f7b",
            "value": "config.json: 100%"
          }
        },
        "32fb84b4f8014dffb0f7acefbca565e3": {
          "model_module": "@jupyter-widgets/controls",
          "model_name": "FloatProgressModel",
          "model_module_version": "1.5.0",
          "state": {
            "_dom_classes": [],
            "_model_module": "@jupyter-widgets/controls",
            "_model_module_version": "1.5.0",
            "_model_name": "FloatProgressModel",
            "_view_count": null,
            "_view_module": "@jupyter-widgets/controls",
            "_view_module_version": "1.5.0",
            "_view_name": "ProgressView",
            "bar_style": "success",
            "description": "",
            "description_tooltip": null,
            "layout": "IPY_MODEL_dfc89a8fa01f4a81ab81fd0710c60a27",
            "max": 1392,
            "min": 0,
            "orientation": "horizontal",
            "style": "IPY_MODEL_165e019cfd6f4e3d9c224bb736cdd90f",
            "value": 1392
          }
        },
        "e9cd2f934cbd40c99db4e3c8b4136621": {
          "model_module": "@jupyter-widgets/controls",
          "model_name": "HTMLModel",
          "model_module_version": "1.5.0",
          "state": {
            "_dom_classes": [],
            "_model_module": "@jupyter-widgets/controls",
            "_model_module_version": "1.5.0",
            "_model_name": "HTMLModel",
            "_view_count": null,
            "_view_module": "@jupyter-widgets/controls",
            "_view_module_version": "1.5.0",
            "_view_name": "HTMLView",
            "description": "",
            "description_tooltip": null,
            "layout": "IPY_MODEL_bf066e84f18e4c2eaf20ab7ced576582",
            "placeholder": "​",
            "style": "IPY_MODEL_1dc67a2c64d64faa83afb5226cadf139",
            "value": " 1.39k/1.39k [00:00&lt;00:00, 58.8kB/s]"
          }
        },
        "0b50df91e3f0475a93b801bef3c4df73": {
          "model_module": "@jupyter-widgets/base",
          "model_name": "LayoutModel",
          "model_module_version": "1.2.0",
          "state": {
            "_model_module": "@jupyter-widgets/base",
            "_model_module_version": "1.2.0",
            "_model_name": "LayoutModel",
            "_view_count": null,
            "_view_module": "@jupyter-widgets/base",
            "_view_module_version": "1.2.0",
            "_view_name": "LayoutView",
            "align_content": null,
            "align_items": null,
            "align_self": null,
            "border": null,
            "bottom": null,
            "display": null,
            "flex": null,
            "flex_flow": null,
            "grid_area": null,
            "grid_auto_columns": null,
            "grid_auto_flow": null,
            "grid_auto_rows": null,
            "grid_column": null,
            "grid_gap": null,
            "grid_row": null,
            "grid_template_areas": null,
            "grid_template_columns": null,
            "grid_template_rows": null,
            "height": null,
            "justify_content": null,
            "justify_items": null,
            "left": null,
            "margin": null,
            "max_height": null,
            "max_width": null,
            "min_height": null,
            "min_width": null,
            "object_fit": null,
            "object_position": null,
            "order": null,
            "overflow": null,
            "overflow_x": null,
            "overflow_y": null,
            "padding": null,
            "right": null,
            "top": null,
            "visibility": null,
            "width": null
          }
        },
        "6e1d378e296d47eaa9f50b98cab42dae": {
          "model_module": "@jupyter-widgets/base",
          "model_name": "LayoutModel",
          "model_module_version": "1.2.0",
          "state": {
            "_model_module": "@jupyter-widgets/base",
            "_model_module_version": "1.2.0",
            "_model_name": "LayoutModel",
            "_view_count": null,
            "_view_module": "@jupyter-widgets/base",
            "_view_module_version": "1.2.0",
            "_view_name": "LayoutView",
            "align_content": null,
            "align_items": null,
            "align_self": null,
            "border": null,
            "bottom": null,
            "display": null,
            "flex": null,
            "flex_flow": null,
            "grid_area": null,
            "grid_auto_columns": null,
            "grid_auto_flow": null,
            "grid_auto_rows": null,
            "grid_column": null,
            "grid_gap": null,
            "grid_row": null,
            "grid_template_areas": null,
            "grid_template_columns": null,
            "grid_template_rows": null,
            "height": null,
            "justify_content": null,
            "justify_items": null,
            "left": null,
            "margin": null,
            "max_height": null,
            "max_width": null,
            "min_height": null,
            "min_width": null,
            "object_fit": null,
            "object_position": null,
            "order": null,
            "overflow": null,
            "overflow_x": null,
            "overflow_y": null,
            "padding": null,
            "right": null,
            "top": null,
            "visibility": null,
            "width": null
          }
        },
        "836f213422014cd08c1e02fd38764f7b": {
          "model_module": "@jupyter-widgets/controls",
          "model_name": "DescriptionStyleModel",
          "model_module_version": "1.5.0",
          "state": {
            "_model_module": "@jupyter-widgets/controls",
            "_model_module_version": "1.5.0",
            "_model_name": "DescriptionStyleModel",
            "_view_count": null,
            "_view_module": "@jupyter-widgets/base",
            "_view_module_version": "1.2.0",
            "_view_name": "StyleView",
            "description_width": ""
          }
        },
        "dfc89a8fa01f4a81ab81fd0710c60a27": {
          "model_module": "@jupyter-widgets/base",
          "model_name": "LayoutModel",
          "model_module_version": "1.2.0",
          "state": {
            "_model_module": "@jupyter-widgets/base",
            "_model_module_version": "1.2.0",
            "_model_name": "LayoutModel",
            "_view_count": null,
            "_view_module": "@jupyter-widgets/base",
            "_view_module_version": "1.2.0",
            "_view_name": "LayoutView",
            "align_content": null,
            "align_items": null,
            "align_self": null,
            "border": null,
            "bottom": null,
            "display": null,
            "flex": null,
            "flex_flow": null,
            "grid_area": null,
            "grid_auto_columns": null,
            "grid_auto_flow": null,
            "grid_auto_rows": null,
            "grid_column": null,
            "grid_gap": null,
            "grid_row": null,
            "grid_template_areas": null,
            "grid_template_columns": null,
            "grid_template_rows": null,
            "height": null,
            "justify_content": null,
            "justify_items": null,
            "left": null,
            "margin": null,
            "max_height": null,
            "max_width": null,
            "min_height": null,
            "min_width": null,
            "object_fit": null,
            "object_position": null,
            "order": null,
            "overflow": null,
            "overflow_x": null,
            "overflow_y": null,
            "padding": null,
            "right": null,
            "top": null,
            "visibility": null,
            "width": null
          }
        },
        "165e019cfd6f4e3d9c224bb736cdd90f": {
          "model_module": "@jupyter-widgets/controls",
          "model_name": "ProgressStyleModel",
          "model_module_version": "1.5.0",
          "state": {
            "_model_module": "@jupyter-widgets/controls",
            "_model_module_version": "1.5.0",
            "_model_name": "ProgressStyleModel",
            "_view_count": null,
            "_view_module": "@jupyter-widgets/base",
            "_view_module_version": "1.2.0",
            "_view_name": "StyleView",
            "bar_color": null,
            "description_width": ""
          }
        },
        "bf066e84f18e4c2eaf20ab7ced576582": {
          "model_module": "@jupyter-widgets/base",
          "model_name": "LayoutModel",
          "model_module_version": "1.2.0",
          "state": {
            "_model_module": "@jupyter-widgets/base",
            "_model_module_version": "1.2.0",
            "_model_name": "LayoutModel",
            "_view_count": null,
            "_view_module": "@jupyter-widgets/base",
            "_view_module_version": "1.2.0",
            "_view_name": "LayoutView",
            "align_content": null,
            "align_items": null,
            "align_self": null,
            "border": null,
            "bottom": null,
            "display": null,
            "flex": null,
            "flex_flow": null,
            "grid_area": null,
            "grid_auto_columns": null,
            "grid_auto_flow": null,
            "grid_auto_rows": null,
            "grid_column": null,
            "grid_gap": null,
            "grid_row": null,
            "grid_template_areas": null,
            "grid_template_columns": null,
            "grid_template_rows": null,
            "height": null,
            "justify_content": null,
            "justify_items": null,
            "left": null,
            "margin": null,
            "max_height": null,
            "max_width": null,
            "min_height": null,
            "min_width": null,
            "object_fit": null,
            "object_position": null,
            "order": null,
            "overflow": null,
            "overflow_x": null,
            "overflow_y": null,
            "padding": null,
            "right": null,
            "top": null,
            "visibility": null,
            "width": null
          }
        },
        "1dc67a2c64d64faa83afb5226cadf139": {
          "model_module": "@jupyter-widgets/controls",
          "model_name": "DescriptionStyleModel",
          "model_module_version": "1.5.0",
          "state": {
            "_model_module": "@jupyter-widgets/controls",
            "_model_module_version": "1.5.0",
            "_model_name": "DescriptionStyleModel",
            "_view_count": null,
            "_view_module": "@jupyter-widgets/base",
            "_view_module_version": "1.2.0",
            "_view_name": "StyleView",
            "description_width": ""
          }
        },
        "56c94c3f66594fbbacdcad2fa69d21b6": {
          "model_module": "@jupyter-widgets/controls",
          "model_name": "HBoxModel",
          "model_module_version": "1.5.0",
          "state": {
            "_dom_classes": [],
            "_model_module": "@jupyter-widgets/controls",
            "_model_module_version": "1.5.0",
            "_model_name": "HBoxModel",
            "_view_count": null,
            "_view_module": "@jupyter-widgets/controls",
            "_view_module_version": "1.5.0",
            "_view_name": "HBoxView",
            "box_style": "",
            "children": [
              "IPY_MODEL_bf8ddfcfc26148c3be4f93388b3dc416",
              "IPY_MODEL_4938c367c37748a4ac33e68cb3d02e99",
              "IPY_MODEL_8829f359594444ff996aa1f999ef7f3a"
            ],
            "layout": "IPY_MODEL_3b75abfc2aa34c53a5020d1325072ac9"
          }
        },
        "bf8ddfcfc26148c3be4f93388b3dc416": {
          "model_module": "@jupyter-widgets/controls",
          "model_name": "HTMLModel",
          "model_module_version": "1.5.0",
          "state": {
            "_dom_classes": [],
            "_model_module": "@jupyter-widgets/controls",
            "_model_module_version": "1.5.0",
            "_model_name": "HTMLModel",
            "_view_count": null,
            "_view_module": "@jupyter-widgets/controls",
            "_view_module_version": "1.5.0",
            "_view_name": "HTMLView",
            "description": "",
            "description_tooltip": null,
            "layout": "IPY_MODEL_5e52facc15cb4e908b33cf29b706f304",
            "placeholder": "​",
            "style": "IPY_MODEL_21e2bdf3cf0c4c27b437f21fd7021e92",
            "value": "pytorch_model.bin: 100%"
          }
        },
        "4938c367c37748a4ac33e68cb3d02e99": {
          "model_module": "@jupyter-widgets/controls",
          "model_name": "FloatProgressModel",
          "model_module_version": "1.5.0",
          "state": {
            "_dom_classes": [],
            "_model_module": "@jupyter-widgets/controls",
            "_model_module_version": "1.5.0",
            "_model_name": "FloatProgressModel",
            "_view_count": null,
            "_view_module": "@jupyter-widgets/controls",
            "_view_module_version": "1.5.0",
            "_view_name": "ProgressView",
            "bar_style": "success",
            "description": "",
            "description_tooltip": null,
            "layout": "IPY_MODEL_2948b71e65404694a944ce61e8ece97d",
            "max": 2275329241,
            "min": 0,
            "orientation": "horizontal",
            "style": "IPY_MODEL_395812dfe6454ae7a7f92a597e9b77a3",
            "value": 2275329241
          }
        },
        "8829f359594444ff996aa1f999ef7f3a": {
          "model_module": "@jupyter-widgets/controls",
          "model_name": "HTMLModel",
          "model_module_version": "1.5.0",
          "state": {
            "_dom_classes": [],
            "_model_module": "@jupyter-widgets/controls",
            "_model_module_version": "1.5.0",
            "_model_name": "HTMLModel",
            "_view_count": null,
            "_view_module": "@jupyter-widgets/controls",
            "_view_module_version": "1.5.0",
            "_view_name": "HTMLView",
            "description": "",
            "description_tooltip": null,
            "layout": "IPY_MODEL_551271ca496c4e98b992515ab857aa7d",
            "placeholder": "​",
            "style": "IPY_MODEL_9f9394ed9a8641668b7351cfb79c3678",
            "value": " 2.28G/2.28G [00:22&lt;00:00, 58.1MB/s]"
          }
        },
        "3b75abfc2aa34c53a5020d1325072ac9": {
          "model_module": "@jupyter-widgets/base",
          "model_name": "LayoutModel",
          "model_module_version": "1.2.0",
          "state": {
            "_model_module": "@jupyter-widgets/base",
            "_model_module_version": "1.2.0",
            "_model_name": "LayoutModel",
            "_view_count": null,
            "_view_module": "@jupyter-widgets/base",
            "_view_module_version": "1.2.0",
            "_view_name": "LayoutView",
            "align_content": null,
            "align_items": null,
            "align_self": null,
            "border": null,
            "bottom": null,
            "display": null,
            "flex": null,
            "flex_flow": null,
            "grid_area": null,
            "grid_auto_columns": null,
            "grid_auto_flow": null,
            "grid_auto_rows": null,
            "grid_column": null,
            "grid_gap": null,
            "grid_row": null,
            "grid_template_areas": null,
            "grid_template_columns": null,
            "grid_template_rows": null,
            "height": null,
            "justify_content": null,
            "justify_items": null,
            "left": null,
            "margin": null,
            "max_height": null,
            "max_width": null,
            "min_height": null,
            "min_width": null,
            "object_fit": null,
            "object_position": null,
            "order": null,
            "overflow": null,
            "overflow_x": null,
            "overflow_y": null,
            "padding": null,
            "right": null,
            "top": null,
            "visibility": null,
            "width": null
          }
        },
        "5e52facc15cb4e908b33cf29b706f304": {
          "model_module": "@jupyter-widgets/base",
          "model_name": "LayoutModel",
          "model_module_version": "1.2.0",
          "state": {
            "_model_module": "@jupyter-widgets/base",
            "_model_module_version": "1.2.0",
            "_model_name": "LayoutModel",
            "_view_count": null,
            "_view_module": "@jupyter-widgets/base",
            "_view_module_version": "1.2.0",
            "_view_name": "LayoutView",
            "align_content": null,
            "align_items": null,
            "align_self": null,
            "border": null,
            "bottom": null,
            "display": null,
            "flex": null,
            "flex_flow": null,
            "grid_area": null,
            "grid_auto_columns": null,
            "grid_auto_flow": null,
            "grid_auto_rows": null,
            "grid_column": null,
            "grid_gap": null,
            "grid_row": null,
            "grid_template_areas": null,
            "grid_template_columns": null,
            "grid_template_rows": null,
            "height": null,
            "justify_content": null,
            "justify_items": null,
            "left": null,
            "margin": null,
            "max_height": null,
            "max_width": null,
            "min_height": null,
            "min_width": null,
            "object_fit": null,
            "object_position": null,
            "order": null,
            "overflow": null,
            "overflow_x": null,
            "overflow_y": null,
            "padding": null,
            "right": null,
            "top": null,
            "visibility": null,
            "width": null
          }
        },
        "21e2bdf3cf0c4c27b437f21fd7021e92": {
          "model_module": "@jupyter-widgets/controls",
          "model_name": "DescriptionStyleModel",
          "model_module_version": "1.5.0",
          "state": {
            "_model_module": "@jupyter-widgets/controls",
            "_model_module_version": "1.5.0",
            "_model_name": "DescriptionStyleModel",
            "_view_count": null,
            "_view_module": "@jupyter-widgets/base",
            "_view_module_version": "1.2.0",
            "_view_name": "StyleView",
            "description_width": ""
          }
        },
        "2948b71e65404694a944ce61e8ece97d": {
          "model_module": "@jupyter-widgets/base",
          "model_name": "LayoutModel",
          "model_module_version": "1.2.0",
          "state": {
            "_model_module": "@jupyter-widgets/base",
            "_model_module_version": "1.2.0",
            "_model_name": "LayoutModel",
            "_view_count": null,
            "_view_module": "@jupyter-widgets/base",
            "_view_module_version": "1.2.0",
            "_view_name": "LayoutView",
            "align_content": null,
            "align_items": null,
            "align_self": null,
            "border": null,
            "bottom": null,
            "display": null,
            "flex": null,
            "flex_flow": null,
            "grid_area": null,
            "grid_auto_columns": null,
            "grid_auto_flow": null,
            "grid_auto_rows": null,
            "grid_column": null,
            "grid_gap": null,
            "grid_row": null,
            "grid_template_areas": null,
            "grid_template_columns": null,
            "grid_template_rows": null,
            "height": null,
            "justify_content": null,
            "justify_items": null,
            "left": null,
            "margin": null,
            "max_height": null,
            "max_width": null,
            "min_height": null,
            "min_width": null,
            "object_fit": null,
            "object_position": null,
            "order": null,
            "overflow": null,
            "overflow_x": null,
            "overflow_y": null,
            "padding": null,
            "right": null,
            "top": null,
            "visibility": null,
            "width": null
          }
        },
        "395812dfe6454ae7a7f92a597e9b77a3": {
          "model_module": "@jupyter-widgets/controls",
          "model_name": "ProgressStyleModel",
          "model_module_version": "1.5.0",
          "state": {
            "_model_module": "@jupyter-widgets/controls",
            "_model_module_version": "1.5.0",
            "_model_name": "ProgressStyleModel",
            "_view_count": null,
            "_view_module": "@jupyter-widgets/base",
            "_view_module_version": "1.2.0",
            "_view_name": "StyleView",
            "bar_color": null,
            "description_width": ""
          }
        },
        "551271ca496c4e98b992515ab857aa7d": {
          "model_module": "@jupyter-widgets/base",
          "model_name": "LayoutModel",
          "model_module_version": "1.2.0",
          "state": {
            "_model_module": "@jupyter-widgets/base",
            "_model_module_version": "1.2.0",
            "_model_name": "LayoutModel",
            "_view_count": null,
            "_view_module": "@jupyter-widgets/base",
            "_view_module_version": "1.2.0",
            "_view_name": "LayoutView",
            "align_content": null,
            "align_items": null,
            "align_self": null,
            "border": null,
            "bottom": null,
            "display": null,
            "flex": null,
            "flex_flow": null,
            "grid_area": null,
            "grid_auto_columns": null,
            "grid_auto_flow": null,
            "grid_auto_rows": null,
            "grid_column": null,
            "grid_gap": null,
            "grid_row": null,
            "grid_template_areas": null,
            "grid_template_columns": null,
            "grid_template_rows": null,
            "height": null,
            "justify_content": null,
            "justify_items": null,
            "left": null,
            "margin": null,
            "max_height": null,
            "max_width": null,
            "min_height": null,
            "min_width": null,
            "object_fit": null,
            "object_position": null,
            "order": null,
            "overflow": null,
            "overflow_x": null,
            "overflow_y": null,
            "padding": null,
            "right": null,
            "top": null,
            "visibility": null,
            "width": null
          }
        },
        "9f9394ed9a8641668b7351cfb79c3678": {
          "model_module": "@jupyter-widgets/controls",
          "model_name": "DescriptionStyleModel",
          "model_module_version": "1.5.0",
          "state": {
            "_model_module": "@jupyter-widgets/controls",
            "_model_module_version": "1.5.0",
            "_model_name": "DescriptionStyleModel",
            "_view_count": null,
            "_view_module": "@jupyter-widgets/base",
            "_view_module_version": "1.2.0",
            "_view_name": "StyleView",
            "description_width": ""
          }
        },
        "e2c440fcdfd542079bd5fca203c77231": {
          "model_module": "@jupyter-widgets/controls",
          "model_name": "HBoxModel",
          "model_module_version": "1.5.0",
          "state": {
            "_dom_classes": [],
            "_model_module": "@jupyter-widgets/controls",
            "_model_module_version": "1.5.0",
            "_model_name": "HBoxModel",
            "_view_count": null,
            "_view_module": "@jupyter-widgets/controls",
            "_view_module_version": "1.5.0",
            "_view_name": "HBoxView",
            "box_style": "",
            "children": [
              "IPY_MODEL_ee5cd67f918e4cf9b699978d36743875",
              "IPY_MODEL_cd8d294531b24122903cce4ffc6bc2cb",
              "IPY_MODEL_de438bcae8394fda87ae3b4f303fc51f"
            ],
            "layout": "IPY_MODEL_dbd594c43e3341d0b2fb0f8f9d6c8c56"
          }
        },
        "ee5cd67f918e4cf9b699978d36743875": {
          "model_module": "@jupyter-widgets/controls",
          "model_name": "HTMLModel",
          "model_module_version": "1.5.0",
          "state": {
            "_dom_classes": [],
            "_model_module": "@jupyter-widgets/controls",
            "_model_module_version": "1.5.0",
            "_model_name": "HTMLModel",
            "_view_count": null,
            "_view_module": "@jupyter-widgets/controls",
            "_view_module_version": "1.5.0",
            "_view_name": "HTMLView",
            "description": "",
            "description_tooltip": null,
            "layout": "IPY_MODEL_cfcdbc4df8484f56a2a0b2e193404370",
            "placeholder": "​",
            "style": "IPY_MODEL_9da8b53bd1354242b7630d95a11db8e8",
            "value": "generation_config.json: 100%"
          }
        },
        "cd8d294531b24122903cce4ffc6bc2cb": {
          "model_module": "@jupyter-widgets/controls",
          "model_name": "FloatProgressModel",
          "model_module_version": "1.5.0",
          "state": {
            "_dom_classes": [],
            "_model_module": "@jupyter-widgets/controls",
            "_model_module_version": "1.5.0",
            "_model_name": "FloatProgressModel",
            "_view_count": null,
            "_view_module": "@jupyter-widgets/controls",
            "_view_module_version": "1.5.0",
            "_view_name": "ProgressView",
            "bar_style": "success",
            "description": "",
            "description_tooltip": null,
            "layout": "IPY_MODEL_c440862c27b34bdd87fd9dd92e2f1fbb",
            "max": 259,
            "min": 0,
            "orientation": "horizontal",
            "style": "IPY_MODEL_5880696f610945a8b10a98928a1a71ea",
            "value": 259
          }
        },
        "de438bcae8394fda87ae3b4f303fc51f": {
          "model_module": "@jupyter-widgets/controls",
          "model_name": "HTMLModel",
          "model_module_version": "1.5.0",
          "state": {
            "_dom_classes": [],
            "_model_module": "@jupyter-widgets/controls",
            "_model_module_version": "1.5.0",
            "_model_name": "HTMLModel",
            "_view_count": null,
            "_view_module": "@jupyter-widgets/controls",
            "_view_module_version": "1.5.0",
            "_view_name": "HTMLView",
            "description": "",
            "description_tooltip": null,
            "layout": "IPY_MODEL_ed2ef14663eb4fc2a8666ebad7934209",
            "placeholder": "​",
            "style": "IPY_MODEL_aeb57b0fdea94de1a7b2ed246f47d817",
            "value": " 259/259 [00:00&lt;00:00, 9.64kB/s]"
          }
        },
        "dbd594c43e3341d0b2fb0f8f9d6c8c56": {
          "model_module": "@jupyter-widgets/base",
          "model_name": "LayoutModel",
          "model_module_version": "1.2.0",
          "state": {
            "_model_module": "@jupyter-widgets/base",
            "_model_module_version": "1.2.0",
            "_model_name": "LayoutModel",
            "_view_count": null,
            "_view_module": "@jupyter-widgets/base",
            "_view_module_version": "1.2.0",
            "_view_name": "LayoutView",
            "align_content": null,
            "align_items": null,
            "align_self": null,
            "border": null,
            "bottom": null,
            "display": null,
            "flex": null,
            "flex_flow": null,
            "grid_area": null,
            "grid_auto_columns": null,
            "grid_auto_flow": null,
            "grid_auto_rows": null,
            "grid_column": null,
            "grid_gap": null,
            "grid_row": null,
            "grid_template_areas": null,
            "grid_template_columns": null,
            "grid_template_rows": null,
            "height": null,
            "justify_content": null,
            "justify_items": null,
            "left": null,
            "margin": null,
            "max_height": null,
            "max_width": null,
            "min_height": null,
            "min_width": null,
            "object_fit": null,
            "object_position": null,
            "order": null,
            "overflow": null,
            "overflow_x": null,
            "overflow_y": null,
            "padding": null,
            "right": null,
            "top": null,
            "visibility": null,
            "width": null
          }
        },
        "cfcdbc4df8484f56a2a0b2e193404370": {
          "model_module": "@jupyter-widgets/base",
          "model_name": "LayoutModel",
          "model_module_version": "1.2.0",
          "state": {
            "_model_module": "@jupyter-widgets/base",
            "_model_module_version": "1.2.0",
            "_model_name": "LayoutModel",
            "_view_count": null,
            "_view_module": "@jupyter-widgets/base",
            "_view_module_version": "1.2.0",
            "_view_name": "LayoutView",
            "align_content": null,
            "align_items": null,
            "align_self": null,
            "border": null,
            "bottom": null,
            "display": null,
            "flex": null,
            "flex_flow": null,
            "grid_area": null,
            "grid_auto_columns": null,
            "grid_auto_flow": null,
            "grid_auto_rows": null,
            "grid_column": null,
            "grid_gap": null,
            "grid_row": null,
            "grid_template_areas": null,
            "grid_template_columns": null,
            "grid_template_rows": null,
            "height": null,
            "justify_content": null,
            "justify_items": null,
            "left": null,
            "margin": null,
            "max_height": null,
            "max_width": null,
            "min_height": null,
            "min_width": null,
            "object_fit": null,
            "object_position": null,
            "order": null,
            "overflow": null,
            "overflow_x": null,
            "overflow_y": null,
            "padding": null,
            "right": null,
            "top": null,
            "visibility": null,
            "width": null
          }
        },
        "9da8b53bd1354242b7630d95a11db8e8": {
          "model_module": "@jupyter-widgets/controls",
          "model_name": "DescriptionStyleModel",
          "model_module_version": "1.5.0",
          "state": {
            "_model_module": "@jupyter-widgets/controls",
            "_model_module_version": "1.5.0",
            "_model_name": "DescriptionStyleModel",
            "_view_count": null,
            "_view_module": "@jupyter-widgets/base",
            "_view_module_version": "1.2.0",
            "_view_name": "StyleView",
            "description_width": ""
          }
        },
        "c440862c27b34bdd87fd9dd92e2f1fbb": {
          "model_module": "@jupyter-widgets/base",
          "model_name": "LayoutModel",
          "model_module_version": "1.2.0",
          "state": {
            "_model_module": "@jupyter-widgets/base",
            "_model_module_version": "1.2.0",
            "_model_name": "LayoutModel",
            "_view_count": null,
            "_view_module": "@jupyter-widgets/base",
            "_view_module_version": "1.2.0",
            "_view_name": "LayoutView",
            "align_content": null,
            "align_items": null,
            "align_self": null,
            "border": null,
            "bottom": null,
            "display": null,
            "flex": null,
            "flex_flow": null,
            "grid_area": null,
            "grid_auto_columns": null,
            "grid_auto_flow": null,
            "grid_auto_rows": null,
            "grid_column": null,
            "grid_gap": null,
            "grid_row": null,
            "grid_template_areas": null,
            "grid_template_columns": null,
            "grid_template_rows": null,
            "height": null,
            "justify_content": null,
            "justify_items": null,
            "left": null,
            "margin": null,
            "max_height": null,
            "max_width": null,
            "min_height": null,
            "min_width": null,
            "object_fit": null,
            "object_position": null,
            "order": null,
            "overflow": null,
            "overflow_x": null,
            "overflow_y": null,
            "padding": null,
            "right": null,
            "top": null,
            "visibility": null,
            "width": null
          }
        },
        "5880696f610945a8b10a98928a1a71ea": {
          "model_module": "@jupyter-widgets/controls",
          "model_name": "ProgressStyleModel",
          "model_module_version": "1.5.0",
          "state": {
            "_model_module": "@jupyter-widgets/controls",
            "_model_module_version": "1.5.0",
            "_model_name": "ProgressStyleModel",
            "_view_count": null,
            "_view_module": "@jupyter-widgets/base",
            "_view_module_version": "1.2.0",
            "_view_name": "StyleView",
            "bar_color": null,
            "description_width": ""
          }
        },
        "ed2ef14663eb4fc2a8666ebad7934209": {
          "model_module": "@jupyter-widgets/base",
          "model_name": "LayoutModel",
          "model_module_version": "1.2.0",
          "state": {
            "_model_module": "@jupyter-widgets/base",
            "_model_module_version": "1.2.0",
            "_model_name": "LayoutModel",
            "_view_count": null,
            "_view_module": "@jupyter-widgets/base",
            "_view_module_version": "1.2.0",
            "_view_name": "LayoutView",
            "align_content": null,
            "align_items": null,
            "align_self": null,
            "border": null,
            "bottom": null,
            "display": null,
            "flex": null,
            "flex_flow": null,
            "grid_area": null,
            "grid_auto_columns": null,
            "grid_auto_flow": null,
            "grid_auto_rows": null,
            "grid_column": null,
            "grid_gap": null,
            "grid_row": null,
            "grid_template_areas": null,
            "grid_template_columns": null,
            "grid_template_rows": null,
            "height": null,
            "justify_content": null,
            "justify_items": null,
            "left": null,
            "margin": null,
            "max_height": null,
            "max_width": null,
            "min_height": null,
            "min_width": null,
            "object_fit": null,
            "object_position": null,
            "order": null,
            "overflow": null,
            "overflow_x": null,
            "overflow_y": null,
            "padding": null,
            "right": null,
            "top": null,
            "visibility": null,
            "width": null
          }
        },
        "aeb57b0fdea94de1a7b2ed246f47d817": {
          "model_module": "@jupyter-widgets/controls",
          "model_name": "DescriptionStyleModel",
          "model_module_version": "1.5.0",
          "state": {
            "_model_module": "@jupyter-widgets/controls",
            "_model_module_version": "1.5.0",
            "_model_name": "DescriptionStyleModel",
            "_view_count": null,
            "_view_module": "@jupyter-widgets/base",
            "_view_module_version": "1.2.0",
            "_view_name": "StyleView",
            "description_width": ""
          }
        }
      }
    }
  },
  "cells": [
    {
      "cell_type": "markdown",
      "source": [
        "#Exercise 1"
      ],
      "metadata": {
        "id": "H01vb1eR5k34"
      }
    },
    {
      "cell_type": "markdown",
      "source": [
        "##Created a list"
      ],
      "metadata": {
        "id": "q-eDouMrC1LH"
      }
    },
    {
      "cell_type": "code",
      "execution_count": null,
      "metadata": {
        "id": "67sje8gIbZW0"
      },
      "outputs": [],
      "source": [
        "text=[\"The link to latest football score https://xyz.com/a/b\",\"Hello Maria whatsup123\",\"Mado is very good with last ball six #dhoni #six\",\"I will be buying movie tickets for 4adults\"]\n"
      ]
    },
    {
      "cell_type": "markdown",
      "source": [
        "Imported  regex library (short for \"regular expression\" library) is a powerful tool for pattern matching within text. It provides a concise and flexible way to search, extract, and manipulate strings based on patterns rather than fixed characters."
      ],
      "metadata": {
        "id": "YOBfyvSjDiL9"
      }
    },
    {
      "cell_type": "code",
      "source": [
        "import re\n",
        "#Removed URLs from the text: \"The link to latest football score. https://xyz.com/a/b\"\n",
        "# This regex pattern matches common URL patterns and remove it from index 0 of list \"text\".\n",
        "url_pattern = re.compile(r'https?://\\S+|www\\.\\S+')\n",
        "cleaned_text = url_pattern.sub(r'', text[0])\n",
        "print(cleaned_text)\n",
        "#Removed alphanumeric words from the text: \"Hello Maria whatsup123\"\n",
        "# This regex pattern matches alphanumeric patterns and remove it from the index 1 of list \"text\".\n",
        "alphanumeric_pattern = re.compile(r'\\b\\w*\\d\\w*\\b')\n",
        "cleaned_text1 = alphanumeric_pattern.sub(r'', text[1])\n",
        "print(cleaned_text1)\n",
        "#Removed words starting with '#' character: \"Mado is very good with last ball six #dhoni #six\"\n",
        "#This regex pattern matches words starting with '#'and remove it from the index 2 of list \"text\".\n",
        "pattern = re.compile(r'#\\w+')\n",
        "cleaned_text2 = pattern.sub(r'', text[2])\n",
        "print(cleaned_text2)\n",
        "#Splits alphanumeric words into digits and text: \"I will be buying movie tickets for 4adults\"\n",
        "# This regex function searches for alphanumeric words in index 3 or-1 and if find alphanumeric pattern than it separates digits from the words in list \"text\".\n",
        "match = re.search(r'(\\d)(\\w)', text[-1])\n",
        "if match:\n",
        "    corrected_line = last_line[:match.start(2)] + ' ' + last_line[match.start(2):]\n",
        "print(corrected_line)\n",
        "\n",
        "\n"
      ],
      "metadata": {
        "colab": {
          "base_uri": "https://localhost:8080/"
        },
        "id": "IM-GjxoRfRxq",
        "outputId": "b3d902ff-a9cf-400a-d630-5b7cb058cb34"
      },
      "execution_count": null,
      "outputs": [
        {
          "output_type": "stream",
          "name": "stdout",
          "text": [
            "The link to latest football score \n",
            "Hello Maria \n",
            "Mado is very good with last ball six  \n",
            "I will be buying movie tickets for 4 adults\n"
          ]
        }
      ]
    },
    {
      "cell_type": "markdown",
      "source": [
        "#Exercise 2\n",
        "For this exercise  I used the pre-trained google/pegasus-xsum model from the Hugging Face Transformers library for abstractive text summarization.  The Pegasus architecture is specifically designed for this task, using a self-supervised objective called Gap Sentences Generation (GSG) during pre-training.I used PyTorch and the Transformers library to prepare text for summarization with the Pegasus model. First, the input text is broken down into smaller units and converted into numbers. Then, the encoder module analyzes these numbers to extract meaning. Finally, the decoder module creates a concise summary based on this analysis.\n"
      ],
      "metadata": {
        "id": "gROVEZET-S4-"
      }
    },
    {
      "cell_type": "code",
      "source": [
        "from google.colab import drive\n",
        "drive.mount('/content/drive')"
      ],
      "metadata": {
        "colab": {
          "base_uri": "https://localhost:8080/"
        },
        "id": "InBWxrluhD9T",
        "outputId": "bb477566-2073-4afb-fa0b-a8e78251cfd9"
      },
      "execution_count": null,
      "outputs": [
        {
          "output_type": "stream",
          "name": "stdout",
          "text": [
            "Drive already mounted at /content/drive; to attempt to forcibly remount, call drive.mount(\"/content/drive\", force_remount=True).\n"
          ]
        }
      ]
    },
    {
      "cell_type": "code",
      "source": [
        "import torch\n",
        "import transformers\n",
        "\n",
        "print(torch.__version__)\n",
        "print(transformers.__version__)"
      ],
      "metadata": {
        "colab": {
          "base_uri": "https://localhost:8080/"
        },
        "id": "MjoJaoiChDUA",
        "outputId": "e00a8d17-f75c-4efc-e192-196ecc1b61a6"
      },
      "execution_count": null,
      "outputs": [
        {
          "output_type": "stream",
          "name": "stdout",
          "text": [
            "2.4.1+cu121\n",
            "4.44.2\n"
          ]
        }
      ]
    },
    {
      "cell_type": "code",
      "source": [
        "# Importing dependencies from transformers\n",
        "from transformers import PegasusForConditionalGeneration, PegasusTokenizer"
      ],
      "metadata": {
        "id": "1wUp4qDZpbQx"
      },
      "execution_count": null,
      "outputs": []
    },
    {
      "cell_type": "code",
      "source": [
        "tokenizer = PegasusTokenizer.from_pretrained(\"google/pegasus-xsum\")"
      ],
      "metadata": {
        "colab": {
          "base_uri": "https://localhost:8080/",
          "height": 342,
          "referenced_widgets": [
            "55f8c4378e0948309b0dd3735a8fbc7f",
            "71777649a43948db9d6ecaa773c7bb1d",
            "21f85f5501db40c5ba930c04d5f97b7c",
            "8d7d8df348564cea94bf70eaea8b784b",
            "8f8bec4c6c7c49e0a192bda6155cb115",
            "23009bb36b6a4c2ba8bc68fd5d8d7a8c",
            "60055340c0c34004881210f089ee46ac",
            "044113d000e34fb08a7c8e5a71e2c067",
            "48f58c969b5d4d619931d38c1d35ea71",
            "83585ec48c464071a285ee265bb90e13",
            "bf2f28dd41a64c0abea401323ce4916a",
            "4cc75a673e2c4f6097df3b0bebb9437e",
            "05ecfac4d2c4497cb150bf262b77341d",
            "6ef9dfed4002417d8f83867ae1f41144",
            "278c81ca6ebe47028e2237b1788c5332",
            "ee3fb95b4de84d27b4e465e50f2454da",
            "1ff6aee01a1f40469a99cff3676d5fdf",
            "87fc9be9b655471e84ac454b721db84d",
            "b189bc6373044d50aac3f2c2f1b511fd",
            "9f9c1557e1564a9f9b7a2dd2ca691f9e",
            "ce1e09173ede4a8997f581e2eaa4dccf",
            "9b8e1d70c0f54302b8d17526519684c6",
            "d14dcf5881a44372a1073d1427588680",
            "b5ce4a2ae26944538579c09033538643",
            "af5e9e3571df45d681a1d567fe51e9e5",
            "933bc603ac9f4c809decc67e71cbbf4c",
            "5f76af4116444b1c99c5c800981a2d00",
            "df936bcbdafd49e18319e82a9477379a",
            "aadfb4ea5cfc488e935d4153d2d14ff8",
            "f224eaefb510452891cc9760d545f929",
            "5d56c17bd00e4818a5207f6aacdd1f92",
            "b5b7e09dabfb44b597fd55ec3fc74e62",
            "1a16d2aa3c0d441a96843194e3c4aab5",
            "40002ad001014d519eef14f6ce3ad3f1",
            "07b921393a8d40b8afdd015ebc61f710",
            "54fa1380544248b69b5e930c17d87644",
            "4b1f118aa52a4f3092ddd4ed23963926",
            "e7f4e1ec56cb42cda4f148da1654df3c",
            "ee128471c09642238a8ec9030a37c1dd",
            "49cd2c0559b04692a35b454fbed256a6",
            "c9f506753a284f52b9a8a67aa8a31c96",
            "688f9d73916c4bfb943b9e8af3b1884b",
            "1f9a2864320b4350952279fe52b2de1b",
            "549aa79392264beb86a09f12051160ca",
            "8affc03f603e4a3998c9b0c410204fd1",
            "ab0b51720c88476585093546c4def604",
            "32fb84b4f8014dffb0f7acefbca565e3",
            "e9cd2f934cbd40c99db4e3c8b4136621",
            "0b50df91e3f0475a93b801bef3c4df73",
            "6e1d378e296d47eaa9f50b98cab42dae",
            "836f213422014cd08c1e02fd38764f7b",
            "dfc89a8fa01f4a81ab81fd0710c60a27",
            "165e019cfd6f4e3d9c224bb736cdd90f",
            "bf066e84f18e4c2eaf20ab7ced576582",
            "1dc67a2c64d64faa83afb5226cadf139"
          ]
        },
        "id": "RCnswCpipfql",
        "outputId": "16dfa1d1-14ec-4655-f120-85e041c0a0f1"
      },
      "execution_count": null,
      "outputs": [
        {
          "output_type": "stream",
          "name": "stderr",
          "text": [
            "/usr/local/lib/python3.10/dist-packages/huggingface_hub/utils/_token.py:89: UserWarning: \n",
            "The secret `HF_TOKEN` does not exist in your Colab secrets.\n",
            "To authenticate with the Hugging Face Hub, create a token in your settings tab (https://huggingface.co/settings/tokens), set it as secret in your Google Colab and restart your session.\n",
            "You will be able to reuse this secret in all of your notebooks.\n",
            "Please note that authentication is recommended but still optional to access public models or datasets.\n",
            "  warnings.warn(\n"
          ]
        },
        {
          "output_type": "display_data",
          "data": {
            "text/plain": [
              "tokenizer_config.json:   0%|          | 0.00/87.0 [00:00<?, ?B/s]"
            ],
            "application/vnd.jupyter.widget-view+json": {
              "version_major": 2,
              "version_minor": 0,
              "model_id": "55f8c4378e0948309b0dd3735a8fbc7f"
            }
          },
          "metadata": {}
        },
        {
          "output_type": "display_data",
          "data": {
            "text/plain": [
              "spiece.model:   0%|          | 0.00/1.91M [00:00<?, ?B/s]"
            ],
            "application/vnd.jupyter.widget-view+json": {
              "version_major": 2,
              "version_minor": 0,
              "model_id": "4cc75a673e2c4f6097df3b0bebb9437e"
            }
          },
          "metadata": {}
        },
        {
          "output_type": "display_data",
          "data": {
            "text/plain": [
              "special_tokens_map.json:   0%|          | 0.00/65.0 [00:00<?, ?B/s]"
            ],
            "application/vnd.jupyter.widget-view+json": {
              "version_major": 2,
              "version_minor": 0,
              "model_id": "d14dcf5881a44372a1073d1427588680"
            }
          },
          "metadata": {}
        },
        {
          "output_type": "display_data",
          "data": {
            "text/plain": [
              "tokenizer.json:   0%|          | 0.00/3.52M [00:00<?, ?B/s]"
            ],
            "application/vnd.jupyter.widget-view+json": {
              "version_major": 2,
              "version_minor": 0,
              "model_id": "40002ad001014d519eef14f6ce3ad3f1"
            }
          },
          "metadata": {}
        },
        {
          "output_type": "display_data",
          "data": {
            "text/plain": [
              "config.json:   0%|          | 0.00/1.39k [00:00<?, ?B/s]"
            ],
            "application/vnd.jupyter.widget-view+json": {
              "version_major": 2,
              "version_minor": 0,
              "model_id": "8affc03f603e4a3998c9b0c410204fd1"
            }
          },
          "metadata": {}
        },
        {
          "output_type": "stream",
          "name": "stderr",
          "text": [
            "/usr/local/lib/python3.10/dist-packages/transformers/tokenization_utils_base.py:1601: FutureWarning: `clean_up_tokenization_spaces` was not set. It will be set to `True` by default. This behavior will be depracted in transformers v4.45, and will be then set to `False` by default. For more details check this issue: https://github.com/huggingface/transformers/issues/31884\n",
            "  warnings.warn(\n"
          ]
        }
      ]
    },
    {
      "cell_type": "code",
      "source": [
        "# Load model\n",
        "model = PegasusForConditionalGeneration.from_pretrained(\"google/pegasus-xsum\")"
      ],
      "metadata": {
        "colab": {
          "base_uri": "https://localhost:8080/",
          "height": 137,
          "referenced_widgets": [
            "56c94c3f66594fbbacdcad2fa69d21b6",
            "bf8ddfcfc26148c3be4f93388b3dc416",
            "4938c367c37748a4ac33e68cb3d02e99",
            "8829f359594444ff996aa1f999ef7f3a",
            "3b75abfc2aa34c53a5020d1325072ac9",
            "5e52facc15cb4e908b33cf29b706f304",
            "21e2bdf3cf0c4c27b437f21fd7021e92",
            "2948b71e65404694a944ce61e8ece97d",
            "395812dfe6454ae7a7f92a597e9b77a3",
            "551271ca496c4e98b992515ab857aa7d",
            "9f9394ed9a8641668b7351cfb79c3678",
            "e2c440fcdfd542079bd5fca203c77231",
            "ee5cd67f918e4cf9b699978d36743875",
            "cd8d294531b24122903cce4ffc6bc2cb",
            "de438bcae8394fda87ae3b4f303fc51f",
            "dbd594c43e3341d0b2fb0f8f9d6c8c56",
            "cfcdbc4df8484f56a2a0b2e193404370",
            "9da8b53bd1354242b7630d95a11db8e8",
            "c440862c27b34bdd87fd9dd92e2f1fbb",
            "5880696f610945a8b10a98928a1a71ea",
            "ed2ef14663eb4fc2a8666ebad7934209",
            "aeb57b0fdea94de1a7b2ed246f47d817"
          ]
        },
        "id": "x0xdDajqpghC",
        "outputId": "2214d753-c14b-4f0b-9d1e-60d14e16816a"
      },
      "execution_count": null,
      "outputs": [
        {
          "output_type": "display_data",
          "data": {
            "text/plain": [
              "pytorch_model.bin:   0%|          | 0.00/2.28G [00:00<?, ?B/s]"
            ],
            "application/vnd.jupyter.widget-view+json": {
              "version_major": 2,
              "version_minor": 0,
              "model_id": "56c94c3f66594fbbacdcad2fa69d21b6"
            }
          },
          "metadata": {}
        },
        {
          "output_type": "stream",
          "name": "stderr",
          "text": [
            "Some weights of PegasusForConditionalGeneration were not initialized from the model checkpoint at google/pegasus-xsum and are newly initialized: ['model.decoder.embed_positions.weight', 'model.encoder.embed_positions.weight']\n",
            "You should probably TRAIN this model on a down-stream task to be able to use it for predictions and inference.\n"
          ]
        },
        {
          "output_type": "display_data",
          "data": {
            "text/plain": [
              "generation_config.json:   0%|          | 0.00/259 [00:00<?, ?B/s]"
            ],
            "application/vnd.jupyter.widget-view+json": {
              "version_major": 2,
              "version_minor": 0,
              "model_id": "e2c440fcdfd542079bd5fca203c77231"
            }
          },
          "metadata": {}
        }
      ]
    },
    {
      "cell_type": "markdown",
      "source": [
        "Story 1"
      ],
      "metadata": {
        "id": "qcgaYQXds8cK"
      }
    },
    {
      "cell_type": "markdown",
      "source": [
        "Summary of 1st story from Business label."
      ],
      "metadata": {
        "id": "-biYNdcKtKEU"
      }
    },
    {
      "cell_type": "code",
      "source": [
        "import pandas as pd\n",
        "df=pd.read_csv(\"/content/drive/MyDrive/text.csv\")\n",
        "text1 = df.loc[45, 'text']\n",
        "print(text1)\n"
      ],
      "metadata": {
        "colab": {
          "base_uri": "https://localhost:8080/"
        },
        "id": "pAvuOGJU_BJy",
        "outputId": "a991850b-ae69-4e76-ed9a-cc851ef102f4"
      },
      "execution_count": null,
      "outputs": [
        {
          "output_type": "stream",
          "name": "stdout",
          "text": [
            "Industrial output falls in Japan\n",
            "\n",
            "Japanese industrial output fell in October while unemployment rose, casting further doubt on the strength of the country's economic recovery.\n",
            "\n",
            "Production dropped 1.6% in October, reflecting a decline in exports, while unemployment levels edged up 0.1% to 4.7%, slightly higher than forecast. The economy has grown for six quarters but growth slowed dramatically in the last quarter amid weaker global demand. Japan's government remains optimistic due to strong domestic demand.\n",
            "\n",
            "Analysts had been forecasting a 0.1% rise in month on month industrial output.\n",
            "\n",
            "According to figures from the Ministry of Economy, Trade and Industry (METI), the decline was led by a fall in demand for electronic parts for mobile phones and digital televisions. Although inventories fell 0.7% month on month, they were 36% higher than a year ago. \"It's a sign that the economy's adjustment phase is stronger than expected,\" said Takashi Yamanaka, an economist with UFJ Bank. Japan downgraded its overall economic assessment earlier this month for the first time in a year.\n",
            "\n",
            "Growth slowed to 0.3% in the quarter ending September 30, down from 6.3% in the first quarter of 2004. Experts believe the economy -which stagnated for most of the 1990s -may be entering a softer patch on the back of rising oil prices and the falling dollar. Japanese government officials played down the latest data, arguing that domestic consumer demand was still resilient. \"The outlook for November is positive so I don't think one can say that conditions have worsened just because of the fall in October,\" said a METI official. Despite the rise in unemployment, jobless figures are still some way below historical highs of recent years. The comparatively weak economic date preyed on shares with the Nikkei down 1% in afternoon trade.\n"
          ]
        }
      ]
    },
    {
      "cell_type": "code",
      "source": [
        "# Create tokens - number representation of our text\n",
        "tokens = tokenizer(text1, truncation=True, padding=\"longest\", return_tensors=\"pt\")"
      ],
      "metadata": {
        "id": "qRdBpKY_prxf"
      },
      "execution_count": null,
      "outputs": []
    },
    {
      "cell_type": "code",
      "source": [
        "# Input tokens\n",
        "tokens"
      ],
      "metadata": {
        "colab": {
          "base_uri": "https://localhost:8080/"
        },
        "id": "inYu8udBpslT",
        "outputId": "108038c3-0e25-4224-fadf-7a7a305b66ab"
      },
      "execution_count": null,
      "outputs": [
        {
          "output_type": "execute_result",
          "data": {
            "text/plain": [
              "{'input_ids': tensor([[ 2466, 26654, 34565, 11246,  2466,   131,   116,  1968, 87356,   316,\n",
              "           124,   109, 27419,   113,   114,  1611, 11246,   115,   109,   339,\n",
              "           590,   112,  1338,   108,  3432,   403,   107, 34972,  3432,  5348,\n",
              "           874,   113,   188, 55898,   233,   111,   114,   984,   121,  5255,\n",
              "         26357,   115,   109,  1331,  2349,   107,   651,   142,  1450,  1444,\n",
              "           108,   109,   335,  4079,  1450,   874,   113,   188, 59921,   108,\n",
              "          8980,   114,   249,   154, 22280,  2597,   197,   196,  2255,   174,\n",
              "           666,   107,   202,   830,  1611,  3955,   113,   114, 11246,   117,\n",
              "           228, 22184, 10965,   113,  2404,   874,   107,   139,   657,   140,\n",
              "          5462,   112,   462,   308,   109, 10231,  7418,   113,   109,   335,\n",
              "           107,   198,   187,  1634,   109,   700,   120,  2466,   131,   116,\n",
              "          1968,  2085,   115,   114,  3502,  8013,  3181,   115,   142, 12872,\n",
              "          5944,   108,   111,   145,   138,  3028,  5708,  2679,   745,   243,\n",
              "          1968,  5299,   285, 32997,  2267, 61316,   107,   343,   115,   109,\n",
              "           749,   113,   109, 10031, 25143,   395, 10616,   478,  2290,   111,\n",
              "         19519,   113, 32702,  1500,  1047,  1573,   108, 20943,   195,   478,\n",
              "         19855, 80210,   107,   198,   362,   131,   116,  2528,   114,  1082,\n",
              "           113,   114,  2597,   401,   249,  5831,  4063,   197,  2255,   666,\n",
              "           745,   243,  2040,   452,  6559,   108, 21356,   134, 46067,  9354,\n",
              "           115,  7647,   107, 37891,   115,   109,   494,   407,  5175,   133,\n",
              "           610,   112,  2529,   224,   112,  2970,  1806,   108,   122,   808,\n",
              "          3817,   164,   188, 59921,   115,   109,   776,  2349,   107,     1]]), 'attention_mask': tensor([[1, 1, 1, 1, 1, 1, 1, 1, 1, 1, 1, 1, 1, 1, 1, 1, 1, 1, 1, 1, 1, 1, 1, 1,\n",
              "         1, 1, 1, 1, 1, 1, 1, 1, 1, 1, 1, 1, 1, 1, 1, 1, 1, 1, 1, 1, 1, 1, 1, 1,\n",
              "         1, 1, 1, 1, 1, 1, 1, 1, 1, 1, 1, 1, 1, 1, 1, 1, 1, 1, 1, 1, 1, 1, 1, 1,\n",
              "         1, 1, 1, 1, 1, 1, 1, 1, 1, 1, 1, 1, 1, 1, 1, 1, 1, 1, 1, 1, 1, 1, 1, 1,\n",
              "         1, 1, 1, 1, 1, 1, 1, 1, 1, 1, 1, 1, 1, 1, 1, 1, 1, 1, 1, 1, 1, 1, 1, 1,\n",
              "         1, 1, 1, 1, 1, 1, 1, 1, 1, 1, 1, 1, 1, 1, 1, 1, 1, 1, 1, 1, 1, 1, 1, 1,\n",
              "         1, 1, 1, 1, 1, 1, 1, 1, 1, 1, 1, 1, 1, 1, 1, 1, 1, 1, 1, 1, 1, 1, 1, 1,\n",
              "         1, 1, 1, 1, 1, 1, 1, 1, 1, 1, 1, 1, 1, 1, 1, 1, 1, 1, 1, 1, 1, 1, 1, 1,\n",
              "         1, 1, 1, 1, 1, 1, 1, 1, 1, 1, 1, 1, 1, 1, 1, 1, 1, 1, 1, 1, 1, 1, 1, 1,\n",
              "         1, 1, 1, 1]])}"
            ]
          },
          "metadata": {},
          "execution_count": 14
        }
      ]
    },
    {
      "cell_type": "code",
      "source": [
        "# Summarize\n",
        "summary = model.generate(**tokens)"
      ],
      "metadata": {
        "id": "sKUqWw-7pwma"
      },
      "execution_count": null,
      "outputs": []
    },
    {
      "cell_type": "code",
      "source": [
        "# Output summary tokens\n",
        "summary[0]"
      ],
      "metadata": {
        "colab": {
          "base_uri": "https://localhost:8080/"
        },
        "id": "ayoLHhX-pz5e",
        "outputId": "6d2770fa-a8bd-4f5a-a1f2-aea66da3d45d"
      },
      "execution_count": null,
      "outputs": [
        {
          "output_type": "execute_result",
          "data": {
            "text/plain": [
              "tensor([   0, 2466,  131,  116, 2268, 2940, 3175,  115, 1350,  277, 9154, 3947,\n",
              "         108, 9477,  701, 2767,  124,  109, 1881,  113,  109,  531,  131,  116,\n",
              "        1500, 2597,  107, 5411, 2940, 4786,  115, 2466, 2769, 2268, 2940, 3175,\n",
              "         115, 1350,  277, 9154, 3947,  108, 9477,  701, 2767,  124,  109, 1881,\n",
              "         113,  109,  531,  131,  116, 1500, 2597,  107,    1])"
            ]
          },
          "metadata": {},
          "execution_count": 23
        }
      ]
    },
    {
      "cell_type": "code",
      "source": [
        "# Decode summary\n",
        "tokenizer.decode(summary[0])"
      ],
      "metadata": {
        "colab": {
          "base_uri": "https://localhost:8080/",
          "height": 72
        },
        "id": "90u-LFJ3p293",
        "outputId": "e252ecfe-6050-4100-9040-59e1ae44683e"
      },
      "execution_count": null,
      "outputs": [
        {
          "output_type": "execute_result",
          "data": {
            "text/plain": [
              "\"<pad>Japan's industrial output fell in October while unemployment rose, casting further doubt on the strength of the country's economic recovery. Industrial output falls in Japan Japanese industrial output fell in October while unemployment rose, casting further doubt on the strength of the country's economic recovery.</s>\""
            ],
            "application/vnd.google.colaboratory.intrinsic+json": {
              "type": "string"
            }
          },
          "metadata": {},
          "execution_count": 24
        }
      ]
    },
    {
      "cell_type": "markdown",
      "source": [
        "Summary of 2nd story from entertainment label."
      ],
      "metadata": {
        "id": "HoDrtpcStXtv"
      }
    },
    {
      "cell_type": "code",
      "source": [
        "text2 = df.loc[652, 'text']\n",
        "print(text2)"
      ],
      "metadata": {
        "colab": {
          "base_uri": "https://localhost:8080/"
        },
        "id": "nn1o00bKtjfn",
        "outputId": "94330e9f-58f7-4279-e706-aa0e6b8f82ca"
      },
      "execution_count": null,
      "outputs": [
        {
          "output_type": "stream",
          "name": "stdout",
          "text": [
            "Blair buys copies of new Band Aid\n",
            "\n",
            "Prime Minister Tony Blair purchased two copies of the charity single Band Aid 20 in Edinburgh on Friday.\n",
            "\n",
            "Staff were surprised when the Prime Minister walked into HMV at 0900 GMT, accompanied by aides and local police. \"When Mr Blair came in unannounced, we were all pretty gobsmacked,\" said HMV manager Clive Smith. \"Our customer helper approached him... it was only then we realised he wanted to buy copies of the Band Aid single, rather than the latest Eminem album.\" Predicted chart-topper Do They Know it's Christmas? is expected to sell at least 300,000 copies by the time the new chart is announced on Sunday. However, the new version of the 1984 single is not going to be released in the US, despite being sold in many countries around the world. US record shops are stocking an import version of Do They Know It's Christmas, which is said to be selling very well in Los Angeles and New York. The original track was released in the US, and reached number 13 in the singles chart. British stars who appear on the current recording, such as Dido and Coldplay's Chris Martin, are well-known to music fans across the Atlantic, along with U2 frontman Bono.\n",
            "\n",
            "Record company Universal is responsible for the global distribution of the single, which will be available across Europe, Asia, South America and Canada. But music fans in the US are still able to access the song and download it on Band Aid 20's official website. In 1985, a group of high-profile American stars known as USA For Africa came together to record their own fund-raising single, We Are The World. The song was written by Lionel Richie and Michael Jackson, with Quincy Jones as producer. It topped the US charts for three weeks and went on win Grammy awards for best record and song.\n",
            "\n",
            "Dionne Warwick, Diana Ross and Tina Turner were among the line-up of performers. It is predicted that the Band Aid 20 song will sell 300,000 copies in the UK by the time the new chart is announced on Sunday. The record is also tipped to become this year's Christmas number one, as the original version did in 1984. Proceeds from the sales are going towards relief for the Darfur region of Sudan and to combat HIV and Aids across Africa.\n"
          ]
        }
      ]
    },
    {
      "cell_type": "code",
      "source": [
        "tokens = tokenizer(text2, truncation=True, padding=\"longest\", return_tensors=\"pt\")\n",
        "summary = model.generate(**tokens)\n",
        "tokenizer.decode(summary[0])"
      ],
      "metadata": {
        "colab": {
          "base_uri": "https://localhost:8080/",
          "height": 54
        },
        "id": "4Ahuj9IO_xn8",
        "outputId": "1ac4f15d-1ceb-41c4-c147-7387cd91405a"
      },
      "execution_count": null,
      "outputs": [
        {
          "output_type": "execute_result",
          "data": {
            "text/plain": [
              "\"<pad>Record shops across the UK have been inundated with sales of a new version of Do They Know It's Christmas? It is predicted that the Band Aid 20 song will sell 300,000 copies in the UK by the time the new chart is announced on Sunday.</s>\""
            ],
            "application/vnd.google.colaboratory.intrinsic+json": {
              "type": "string"
            }
          },
          "metadata": {},
          "execution_count": 35
        }
      ]
    },
    {
      "cell_type": "markdown",
      "source": [
        "Summary of 3rd story from politics label."
      ],
      "metadata": {
        "id": "xJfH8MnzvnMs"
      }
    },
    {
      "cell_type": "code",
      "source": [
        "text3 = df.loc[1050, 'text']\n",
        "print(text3)"
      ],
      "metadata": {
        "colab": {
          "base_uri": "https://localhost:8080/"
        },
        "id": "pW7TzBpYumED",
        "outputId": "9d29dc6b-468c-4fcb-ca49-dc058d42668d"
      },
      "execution_count": null,
      "outputs": [
        {
          "output_type": "stream",
          "name": "stdout",
          "text": [
            "Pakistani women 'must not hide'\n",
            "\n",
            "Hiding women away in the home hidden behind veils is a backward view of Islam, President Musharraf of Pakistan has said during a visit to Britain.\n",
            "\n",
            "He was speaking to the BBC's Newsnight programme a few hours before visiting the Pakistani community in Manchester. \"My wife is travelling around. She is very religious but she is very moderate,\" said General Musharraf. It comes after Pakistan's High Commissioner to Britain said some Pakistanis should integrate more. Dr Maleeha Lodhi said people could not expect others to listen to their grievances if they isolated themselves.\n",
            "\n",
            "Gen Musharraf told the BBC: \"Some people think that the women should be confined to their houses and put veils on and all that and they should not move out - absolutely wrong.\" The Pakistani president was also asked whether he thought the war on terror had made the world less safe. \"Yes, absolutely. And I would add that unfortunately we are not addressing the core problems, so therefore we can never address it in its totality,\" he said. \"We are fighting it in its immediate context but we are not fighting it in its strategic long-term context.\n",
            "\n",
            "\"It is the political disputes and we need to resolve them, and also the issue of illiteracy and poverty. This combined are breeding grounds of extremism and terrorism.\" On Monday the Pakistani president met Prime Minister Tony Blair at 10 Downing Street, on his first official visit to London. He is due to visit the Pakistani community in Manchester on Tuesday afternoon.\n",
            "\n",
            "The Mirror newspaper said on Tuesday it had been handed a sensitive dossier outling the details of Gen Musharraf's visit to Britain. The paper said the document had been found in a London street by a member of the public. It said the dossier contained details about his movements and also confidential police radio channels, call signs and codes. Speaking in London on Monday, Gen Musharraf said al-Qaeda was \"on the run\" in Pakistan.\n",
            "\n",
            "But standing next to Mr Blair he added that it was crucial to tackle the \"core of what creates terrorists, what creates an extremist, militant environment which then leads on to terrorism\". \"That is the resolution of political disputes.\"\n",
            "\n",
            "Mr Blair said the two leaders had talked about Afghanistan, the wider war on terror, the situation in the Middle East and the ongoing dispute over Kashmir. \"We agreed that in Afghanistan there is some cause for optimism about the progress that has been made there,\" said Mr Blair. \"In respect of Iraq, we agreed that whatever the issues of the past, the important thing now is to see the strategy through and ensure that Iraq is capable of becoming a stable and democratic state.\"\n"
          ]
        }
      ]
    },
    {
      "cell_type": "code",
      "source": [
        "tokens = tokenizer(text3, truncation=True, padding=\"longest\", return_tensors=\"pt\")\n",
        "summary = model.generate(**tokens)\n",
        "tokenizer.decode(summary[0])"
      ],
      "metadata": {
        "colab": {
          "base_uri": "https://localhost:8080/",
          "height": 36
        },
        "id": "mCZCn7bO_5lU",
        "outputId": "5f8bdc76-234b-48c6-b8de-0c60f9bd28fa"
      },
      "execution_count": null,
      "outputs": [
        {
          "output_type": "execute_result",
          "data": {
            "text/plain": [
              "'<pad>Pakistan\\'s President Pervez Musharraf has said his wife is \"very moderate\".</s>'"
            ],
            "application/vnd.google.colaboratory.intrinsic+json": {
              "type": "string"
            }
          },
          "metadata": {},
          "execution_count": 37
        }
      ]
    },
    {
      "cell_type": "markdown",
      "source": [
        "#Exercise 3"
      ],
      "metadata": {
        "id": "dyT7RZ__yVym"
      }
    },
    {
      "cell_type": "markdown",
      "source": [],
      "metadata": {
        "id": "_snunSAnzHGe"
      }
    },
    {
      "cell_type": "markdown",
      "source": [
        "Unable to clone the pytorch model from model data due to its size and gitlfs does not help. So developed one and it has accuracy of 0.90 and loss of 0.44.there was no need to balance the data because the data is not that much skewed towards one category of \"labels\" column."
      ],
      "metadata": {
        "id": "Io8slUtlzGtN"
      }
    },
    {
      "cell_type": "code",
      "source": [
        "import pandas as pd\n",
        "import tensorflow as tf\n",
        "from tensorflow.keras.layers import TextVectorization, Embedding, LSTM, Dense\n",
        "from tensorflow.keras.models import Sequential\n",
        "from sklearn.model_selection import train_test_split\n",
        "from sklearn.preprocessing import LabelEncoder"
      ],
      "metadata": {
        "id": "4saOADrGtsDQ"
      },
      "execution_count": null,
      "outputs": []
    },
    {
      "cell_type": "code",
      "source": [
        "\n",
        "data = pd.read_csv(\"/content/drive/MyDrive/text.csv\")\n",
        "\n",
        "# Convert text and labels to string type\n",
        "data[\"text\"] = data[\"text\"].astype(str)\n",
        "data[\"labels\"] = data[\"labels\"].astype(str)\n",
        "\n",
        "# Encode labels\n",
        "label_encoder = LabelEncoder()\n",
        "data[\"labels\"] = label_encoder.fit_transform(data[\"labels\"])\n",
        "\n",
        "# 3. Split data into training and testing sets\n",
        "train_data, test_data = train_test_split(data, test_size=0.2, random_state=42)\n",
        "\n",
        "# Separate features and labels\n",
        "train_texts = train_data[\"text\"].values\n",
        "train_labels = train_data[\"labels\"].values\n",
        "test_texts = test_data[\"text\"].values\n",
        "test_labels = test_data[\"labels\"].values\n",
        "\n",
        "# 4. Create a TextVectorization layer\n",
        "max_tokens = 10000\n",
        "sequence_length = 100\n",
        "\n",
        "vectorize_layer = TextVectorization(\n",
        "    max_tokens=max_tokens,\n",
        "    output_mode=\"int\",\n",
        "    output_sequence_length=sequence_length,\n",
        ")\n",
        "\n",
        "vectorize_layer.adapt(train_texts)\n",
        "\n",
        "# 5. Build the model\n",
        "# Get the number of unique classes from the encoded labels\n",
        "num_classes = len(label_encoder.classes_)\n",
        "# Ensure the Dense layer output dimension matches the number of classes\n",
        "model = Sequential(\n",
        "    [\n",
        "        vectorize_layer,\n",
        "        Embedding(max_tokens + 1, 128),\n",
        "        LSTM(64),\n",
        "        Dense(num_classes, activation=\"softmax\"),\n",
        "    ]\n",
        ")\n",
        "\n",
        "# 6. Compile the model\n",
        "model.compile(\n",
        "    loss=\"sparse_categorical_crossentropy\", optimizer=\"adam\", metrics=[\"accuracy\"]\n",
        ")\n",
        "\n",
        "# 7. Train the model\n",
        "model.fit(train_texts, train_labels, epochs=10, validation_data=(test_texts, test_labels))\n",
        "\n",
        "# 8. Evaluate the model\n",
        "loss, accuracy = model.evaluate(test_texts, test_labels)\n",
        "print(\"Loss:\", loss)\n",
        "print(\"Accuracy:\", accuracy)"
      ],
      "metadata": {
        "colab": {
          "base_uri": "https://localhost:8080/"
        },
        "id": "-gbk-J1sq_DW",
        "outputId": "5f583b86-2b84-4a69-811d-db57aeab09e6"
      },
      "execution_count": null,
      "outputs": [
        {
          "output_type": "stream",
          "name": "stdout",
          "text": [
            "Epoch 1/10\n",
            "\u001b[1m56/56\u001b[0m \u001b[32m━━━━━━━━━━━━━━━━━━━━\u001b[0m\u001b[37m\u001b[0m \u001b[1m9s\u001b[0m 88ms/step - accuracy: 0.2520 - loss: 1.5752 - val_accuracy: 0.4652 - val_loss: 1.1843\n",
            "Epoch 2/10\n",
            "\u001b[1m56/56\u001b[0m \u001b[32m━━━━━━━━━━━━━━━━━━━━\u001b[0m\u001b[37m\u001b[0m \u001b[1m6s\u001b[0m 109ms/step - accuracy: 0.5325 - loss: 1.1649 - val_accuracy: 0.6315 - val_loss: 0.8789\n",
            "Epoch 3/10\n",
            "\u001b[1m56/56\u001b[0m \u001b[32m━━━━━━━━━━━━━━━━━━━━\u001b[0m\u001b[37m\u001b[0m \u001b[1m9s\u001b[0m 79ms/step - accuracy: 0.7086 - loss: 0.7189 - val_accuracy: 0.7124 - val_loss: 0.8288\n",
            "Epoch 4/10\n",
            "\u001b[1m56/56\u001b[0m \u001b[32m━━━━━━━━━━━━━━━━━━━━\u001b[0m\u001b[37m\u001b[0m \u001b[1m7s\u001b[0m 116ms/step - accuracy: 0.8260 - loss: 0.5275 - val_accuracy: 0.8337 - val_loss: 0.4804\n",
            "Epoch 5/10\n",
            "\u001b[1m56/56\u001b[0m \u001b[32m━━━━━━━━━━━━━━━━━━━━\u001b[0m\u001b[37m\u001b[0m \u001b[1m8s\u001b[0m 79ms/step - accuracy: 0.9714 - loss: 0.1754 - val_accuracy: 0.9056 - val_loss: 0.3265\n",
            "Epoch 6/10\n",
            "\u001b[1m56/56\u001b[0m \u001b[32m━━━━━━━━━━━━━━━━━━━━\u001b[0m\u001b[37m\u001b[0m \u001b[1m6s\u001b[0m 111ms/step - accuracy: 0.9834 - loss: 0.0768 - val_accuracy: 0.8854 - val_loss: 0.3568\n",
            "Epoch 7/10\n",
            "\u001b[1m56/56\u001b[0m \u001b[32m━━━━━━━━━━━━━━━━━━━━\u001b[0m\u001b[37m\u001b[0m \u001b[1m5s\u001b[0m 86ms/step - accuracy: 0.9814 - loss: 0.0719 - val_accuracy: 0.8989 - val_loss: 0.3453\n",
            "Epoch 8/10\n",
            "\u001b[1m56/56\u001b[0m \u001b[32m━━━━━━━━━━━━━━━━━━━━\u001b[0m\u001b[37m\u001b[0m \u001b[1m4s\u001b[0m 79ms/step - accuracy: 0.9939 - loss: 0.0386 - val_accuracy: 0.8921 - val_loss: 0.3610\n",
            "Epoch 9/10\n",
            "\u001b[1m56/56\u001b[0m \u001b[32m━━━━━━━━━━━━━━━━━━━━\u001b[0m\u001b[37m\u001b[0m \u001b[1m7s\u001b[0m 116ms/step - accuracy: 0.9921 - loss: 0.0422 - val_accuracy: 0.9191 - val_loss: 0.3731\n",
            "Epoch 10/10\n",
            "\u001b[1m56/56\u001b[0m \u001b[32m━━━━━━━━━━━━━━━━━━━━\u001b[0m\u001b[37m\u001b[0m \u001b[1m8s\u001b[0m 79ms/step - accuracy: 0.9985 - loss: 0.0180 - val_accuracy: 0.9034 - val_loss: 0.4422\n",
            "\u001b[1m14/14\u001b[0m \u001b[32m━━━━━━━━━━━━━━━━━━━━\u001b[0m\u001b[37m\u001b[0m \u001b[1m0s\u001b[0m 20ms/step - accuracy: 0.9145 - loss: 0.4046\n",
            "Loss: 0.44218891859054565\n",
            "Accuracy: 0.9033707976341248\n"
          ]
        }
      ]
    },
    {
      "cell_type": "markdown",
      "source": [
        "this code categorise those three stories at index number 45,652,1050 as business , entertainment and politics which is 100 percent as labelled in the provided text.csv file."
      ],
      "metadata": {
        "id": "Xw-5H8Y52r57"
      }
    },
    {
      "cell_type": "code",
      "source": [
        "def classify_multiple_texts(indices):\n",
        "    # Get the texts from the specified indices\n",
        "    input_texts = data.loc[indices, 'text'].values\n",
        "\n",
        "    # Preprocess the input texts\n",
        "    input_texts = tf.constant(input_texts)\n",
        "\n",
        "    # Make predictions\n",
        "    predictions = model.predict(input_texts)\n",
        "\n",
        "    # Get the predicted class indices\n",
        "    predicted_class_indices = tf.argmax(predictions, axis=1).numpy()\n",
        "\n",
        "    # Decode the class indices back to the original labels\n",
        "    predicted_labels = label_encoder.inverse_transform(predicted_class_indices)\n",
        "\n",
        "    return predicted_labels\n",
        "\n",
        "\n",
        "# Classify text from indices 45, 100, and 200\n",
        "indices_to_classify = [45, 652, 1050]\n",
        "predicted_labels = classify_multiple_texts(indices_to_classify)\n",
        "\n",
        "for i, label in zip(indices_to_classify, predicted_labels):\n",
        "    print(f\"Index: {i}, Text: {data.loc[i, 'text']}\")\n",
        "    print(f\"Predicted Label: {label}\")"
      ],
      "metadata": {
        "colab": {
          "base_uri": "https://localhost:8080/"
        },
        "id": "pSlO-vRSzxWQ",
        "outputId": "384ba801-67a7-4018-83bc-fb2f07a7d4c6"
      },
      "execution_count": null,
      "outputs": [
        {
          "output_type": "stream",
          "name": "stdout",
          "text": [
            "\u001b[1m1/1\u001b[0m \u001b[32m━━━━━━━━━━━━━━━━━━━━\u001b[0m\u001b[37m\u001b[0m \u001b[1m0s\u001b[0m 42ms/step\n",
            "Index: 45, Text: Industrial output falls in Japan\n",
            "\n",
            "Japanese industrial output fell in October while unemployment rose, casting further doubt on the strength of the country's economic recovery.\n",
            "\n",
            "Production dropped 1.6% in October, reflecting a decline in exports, while unemployment levels edged up 0.1% to 4.7%, slightly higher than forecast. The economy has grown for six quarters but growth slowed dramatically in the last quarter amid weaker global demand. Japan's government remains optimistic due to strong domestic demand.\n",
            "\n",
            "Analysts had been forecasting a 0.1% rise in month on month industrial output.\n",
            "\n",
            "According to figures from the Ministry of Economy, Trade and Industry (METI), the decline was led by a fall in demand for electronic parts for mobile phones and digital televisions. Although inventories fell 0.7% month on month, they were 36% higher than a year ago. \"It's a sign that the economy's adjustment phase is stronger than expected,\" said Takashi Yamanaka, an economist with UFJ Bank. Japan downgraded its overall economic assessment earlier this month for the first time in a year.\n",
            "\n",
            "Growth slowed to 0.3% in the quarter ending September 30, down from 6.3% in the first quarter of 2004. Experts believe the economy -which stagnated for most of the 1990s -may be entering a softer patch on the back of rising oil prices and the falling dollar. Japanese government officials played down the latest data, arguing that domestic consumer demand was still resilient. \"The outlook for November is positive so I don't think one can say that conditions have worsened just because of the fall in October,\" said a METI official. Despite the rise in unemployment, jobless figures are still some way below historical highs of recent years. The comparatively weak economic date preyed on shares with the Nikkei down 1% in afternoon trade.\n",
            "Predicted Label: business\n",
            "Index: 652, Text: Blair buys copies of new Band Aid\n",
            "\n",
            "Prime Minister Tony Blair purchased two copies of the charity single Band Aid 20 in Edinburgh on Friday.\n",
            "\n",
            "Staff were surprised when the Prime Minister walked into HMV at 0900 GMT, accompanied by aides and local police. \"When Mr Blair came in unannounced, we were all pretty gobsmacked,\" said HMV manager Clive Smith. \"Our customer helper approached him... it was only then we realised he wanted to buy copies of the Band Aid single, rather than the latest Eminem album.\" Predicted chart-topper Do They Know it's Christmas? is expected to sell at least 300,000 copies by the time the new chart is announced on Sunday. However, the new version of the 1984 single is not going to be released in the US, despite being sold in many countries around the world. US record shops are stocking an import version of Do They Know It's Christmas, which is said to be selling very well in Los Angeles and New York. The original track was released in the US, and reached number 13 in the singles chart. British stars who appear on the current recording, such as Dido and Coldplay's Chris Martin, are well-known to music fans across the Atlantic, along with U2 frontman Bono.\n",
            "\n",
            "Record company Universal is responsible for the global distribution of the single, which will be available across Europe, Asia, South America and Canada. But music fans in the US are still able to access the song and download it on Band Aid 20's official website. In 1985, a group of high-profile American stars known as USA For Africa came together to record their own fund-raising single, We Are The World. The song was written by Lionel Richie and Michael Jackson, with Quincy Jones as producer. It topped the US charts for three weeks and went on win Grammy awards for best record and song.\n",
            "\n",
            "Dionne Warwick, Diana Ross and Tina Turner were among the line-up of performers. It is predicted that the Band Aid 20 song will sell 300,000 copies in the UK by the time the new chart is announced on Sunday. The record is also tipped to become this year's Christmas number one, as the original version did in 1984. Proceeds from the sales are going towards relief for the Darfur region of Sudan and to combat HIV and Aids across Africa.\n",
            "Predicted Label: entertainment\n",
            "Index: 1050, Text: Pakistani women 'must not hide'\n",
            "\n",
            "Hiding women away in the home hidden behind veils is a backward view of Islam, President Musharraf of Pakistan has said during a visit to Britain.\n",
            "\n",
            "He was speaking to the BBC's Newsnight programme a few hours before visiting the Pakistani community in Manchester. \"My wife is travelling around. She is very religious but she is very moderate,\" said General Musharraf. It comes after Pakistan's High Commissioner to Britain said some Pakistanis should integrate more. Dr Maleeha Lodhi said people could not expect others to listen to their grievances if they isolated themselves.\n",
            "\n",
            "Gen Musharraf told the BBC: \"Some people think that the women should be confined to their houses and put veils on and all that and they should not move out - absolutely wrong.\" The Pakistani president was also asked whether he thought the war on terror had made the world less safe. \"Yes, absolutely. And I would add that unfortunately we are not addressing the core problems, so therefore we can never address it in its totality,\" he said. \"We are fighting it in its immediate context but we are not fighting it in its strategic long-term context.\n",
            "\n",
            "\"It is the political disputes and we need to resolve them, and also the issue of illiteracy and poverty. This combined are breeding grounds of extremism and terrorism.\" On Monday the Pakistani president met Prime Minister Tony Blair at 10 Downing Street, on his first official visit to London. He is due to visit the Pakistani community in Manchester on Tuesday afternoon.\n",
            "\n",
            "The Mirror newspaper said on Tuesday it had been handed a sensitive dossier outling the details of Gen Musharraf's visit to Britain. The paper said the document had been found in a London street by a member of the public. It said the dossier contained details about his movements and also confidential police radio channels, call signs and codes. Speaking in London on Monday, Gen Musharraf said al-Qaeda was \"on the run\" in Pakistan.\n",
            "\n",
            "But standing next to Mr Blair he added that it was crucial to tackle the \"core of what creates terrorists, what creates an extremist, militant environment which then leads on to terrorism\". \"That is the resolution of political disputes.\"\n",
            "\n",
            "Mr Blair said the two leaders had talked about Afghanistan, the wider war on terror, the situation in the Middle East and the ongoing dispute over Kashmir. \"We agreed that in Afghanistan there is some cause for optimism about the progress that has been made there,\" said Mr Blair. \"In respect of Iraq, we agreed that whatever the issues of the past, the important thing now is to see the strategy through and ensure that Iraq is capable of becoming a stable and democratic state.\"\n",
            "Predicted Label: politics\n"
          ]
        }
      ]
    },
    {
      "cell_type": "code",
      "source": [
        "print(df.loc[45,'labels'])\n",
        "print(df.loc[652,'labels'])\n",
        "print(df.loc[1050,'labels'])"
      ],
      "metadata": {
        "colab": {
          "base_uri": "https://localhost:8080/"
        },
        "id": "__x6Fp7o1_Sl",
        "outputId": "4451888d-fa32-4930-9352-ba2d33385770"
      },
      "execution_count": null,
      "outputs": [
        {
          "output_type": "stream",
          "name": "stdout",
          "text": [
            "business\n",
            "entertainment\n",
            "politics\n"
          ]
        }
      ]
    },
    {
      "cell_type": "markdown",
      "source": [
        "#Exercise 4"
      ],
      "metadata": {
        "id": "Jwmj7KldD-c8"
      }
    },
    {
      "cell_type": "markdown",
      "source": [
        "\n",
        "This code uses the NLTK library to calculate the BLEU score, a metric for evaluating the quality of a generated text (candidate_summary) by comparing it to a reference text (reference_summary). It tokenizes both summaries, then computes the BLEU score using equal weights for 1-gram to 4-gram matches to assess the similarity between the texts in terms of word choice and order. This helps determine how closely the generated summary resembles the reference, providing insights into its accuracy and fluency.For this BLEU score is 0.0263 which means there's less overlap between the candidate summary and the reference summary, indicating lower quality."
      ],
      "metadata": {
        "id": "8BOwOYB0PXNj"
      }
    },
    {
      "cell_type": "code",
      "source": [
        "import nltk\n",
        "from nltk.translate.bleu_score import sentence_bleu\n",
        "#Summaries\n",
        "reference_summary = \"People are using AI chatbots to fill junk websites with AI-generated text that attracts paying advertisers, according to a new report from the media research organization NewsGuard that was shared exclusively with MIT Technology Review. Over 140 major brands are paying for ads that end up on unreliable AI-written sites, likely without their knowledge. Ninety percent of the ads from major brands found on these AI-generated news sites were served by Google, though the company’s own policies prohibit sites from placing Google-served ads on pages that include “spammy automatically generated content.” The practice threatens to hasten the arrival of a glitchy, spammy internet that is overrun by AI-generated content, as well as wasting massive amounts of ad money.\"\n",
        "candidate_summary = \"A new report finds that sites run with AI-generated content serve ads from major brands, which mostly come from Google. Some of those sites contained dangerous misinformation. And this is just getting started. More could be on the way. The opaque nature of programmatic advertising has inadvertently turned major brands into unwitting supporters.\"\n",
        "#Tokenize the summaries into words\n",
        "reference_tokens = nltk.word_tokenize(reference_summary.lower())\n",
        "candidate_tokens = nltk.word_tokenize(candidate_summary.lower())\n",
        "#Calculate BLEU score (using 1- to 4-grams)\n",
        "bleu_score = sentence_bleu([reference_tokens], candidate_tokens, weights=(0.25, 0.25, 0.25, 0.25))\n",
        "#calculating BLEU score\n",
        "bleu_score = calculate_bleu(reference_summary, candidate_summary)\n",
        "print(f\"BLEU Score: {bleu_score:.4f}\")"
      ],
      "metadata": {
        "colab": {
          "base_uri": "https://localhost:8080/"
        },
        "id": "DpXylhEbOkLM",
        "outputId": "df0ef3cf-1556-4054-fccd-04c44f1c3578"
      },
      "execution_count": null,
      "outputs": [
        {
          "output_type": "stream",
          "name": "stdout",
          "text": [
            "BLEU Score: 0.0263\n"
          ]
        }
      ]
    }
  ]
}